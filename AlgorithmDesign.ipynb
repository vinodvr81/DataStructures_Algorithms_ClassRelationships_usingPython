{
 "cells": [
  {
   "cell_type": "markdown",
   "metadata": {},
   "source": [
    "# Python - Algorithm Design"
   ]
  },
  {
   "cell_type": "markdown",
   "metadata": {},
   "source": [
    "# Characteristics of an Algorithm"
   ]
  },
  {
   "cell_type": "markdown",
   "metadata": {},
   "source": [
    "\n",
    "Not all procedures can be called an algorithm. An algorithm should have the following characteristics −\n",
    "\n",
    "Unambiguous − Algorithm should be clear and unambiguous. Each of its steps (or phases), and their inputs/outputs should be clear and must lead to only one meaning.\n",
    "\n",
    "Input − An algorithm should have 0 or more well-defined inputs.\n",
    "\n",
    "Output − An algorithm should have 1 or more well-defined outputs, and should match the desired output.\n",
    "\n",
    "Finiteness − Algorithms must terminate after a finite number of steps.\n",
    "\n",
    "Feasibility − Should be feasible with the available resources.\n",
    "\n",
    "Independent − An algorithm should have step-by-step directions, which should be independent of any programming code."
   ]
  },
  {
   "cell_type": "markdown",
   "metadata": {},
   "source": [
    "# Example"
   ]
  },
  {
   "cell_type": "markdown",
   "metadata": {},
   "source": [
    "Let's try to learn algorithm-writing by using an example.\n",
    "\n",
    "Problem − Design an algorithm to add two numbers and display the result.\n",
    "\n",
    "step 1 − START\n",
    "\n",
    "step 2 − declare three integers a, b & c\n",
    "\n",
    "step 3 − define values of a & b\n",
    "\n",
    "step 4 − add values of a & b\n",
    "\n",
    "step 5 − store output of step 4 to c\n",
    "\n",
    "step 6 − print c\n",
    "\n",
    "step 7 − STOP"
   ]
  },
  {
   "cell_type": "markdown",
   "metadata": {},
   "source": [
    "Algorithms tell the programmers how to code the program. Alternatively, the algorithm can be written as −\n",
    "\n",
    "step 1 − START ADD\n",
    "\n",
    "step 2 − get values of a & b\n",
    "\n",
    "step 3 − c ← a + b\n",
    "\n",
    "step 4 − display c\n",
    "\n",
    "step 5 − STOP"
   ]
  },
  {
   "cell_type": "markdown",
   "metadata": {},
   "source": [
    "# Divide and conquer Approach"
   ]
  },
  {
   "cell_type": "markdown",
   "metadata": {},
   "source": [
    "In divide and conquer approach, the problem in hand, is divided into smaller sub-problems and then each problem is solved independently. When we keep on dividing the subproblems into even smaller sub-problems, we may eventually reach a stage where no more division is possible. Those \"atomic\" smallest possible sub-problem (fractions) are solved. The solution of all sub-problems is finally merged in order to obtain the solution of an original problem."
   ]
  },
  {
   "cell_type": "markdown",
   "metadata": {},
   "source": [
    "# Recursion"
   ]
  },
  {
   "cell_type": "markdown",
   "metadata": {},
   "source": [
    "Recursion allows a function to call itself. Fixed steps of code get executed again and again for new values. We also have to set criteria for deciding when the recursive call ends. In the below example we see a recursive approach to the binary search. We take a sorted list and give its index range as input to the recursive function."
   ]
  },
  {
   "cell_type": "markdown",
   "metadata": {},
   "source": [
    "# Backtracking"
   ]
  },
  {
   "cell_type": "markdown",
   "metadata": {},
   "source": [
    "Backtracking is a form of recursion. But it involves choosing only option out of any possibilities. We begin by choosing an option and backtrack from it,"
   ]
  },
  {
   "cell_type": "markdown",
   "metadata": {},
   "source": [
    "# Analysis of Algorithms"
   ]
  },
  {
   "cell_type": "markdown",
   "metadata": {},
   "source": [
    "The efficiency and accuracy of algorithms have to be analysed to compare them and choose a specific algorithm for certain scenarios. The process of making this analysis is called Asymptotic analysis. It refers to computing the running time of any operation in mathematical units of computation. For example, the running time of one operation is computed as f(n) and may be for another operation it is computed as g(n2). This means the first operation running time will increase linearly with the increase in n and the running time of the second operation will increase exponentially when n increases. Similarly, the running time of both operations will be nearly the same if n is significantly small.\n",
    "\n",
    "Usually, the time required by an algorithm falls under three types −\n",
    "\n",
    "Best Case − Minimum time required for program execution.\n",
    "Average Case − Average time required for program execution.\n",
    "Worst Case − Maximum time required for program execution."
   ]
  },
  {
   "cell_type": "markdown",
   "metadata": {},
   "source": [
    "# Asymptotic Notations"
   ]
  },
  {
   "cell_type": "markdown",
   "metadata": {},
   "source": [
    "Following are the commonly used asymptotic notations to calculate the running time complexity of an algorithm.\n",
    "\n",
    "Ο Notation\n",
    "\n",
    "Ω Notation\n",
    "\n",
    "θ Notation"
   ]
  },
  {
   "cell_type": "markdown",
   "metadata": {},
   "source": [
    "Big Oh Notation, Ο\n",
    "\n",
    "The notation Ο(n) is the formal way to express the upper bound of an algorithm's running time. It measures the worst case time complexity or the longest amount of time an algorithm can possibly take to complete.\n",
    "\n",
    "Ο(f(n)) = { g(n) : there exists c > 0 and n0 such that f(n) ≤ c.g(n) for all n > n0.\n",
    "\n",
    "\n",
    "Omega Notation, Ω\n",
    "\n",
    "\n",
    "The notation Ω(n) is the formal way to express the lower bound of an algorithm's running time. It measures the best case time complexity or the best amount of time an algorithm can possibly take to complete\n",
    "\n",
    "Ω(f(n)) ≥ { g(n) : there exists c > 0 and n0 such that g(n) ≤ c.f(n) for all n > n0. }\n",
    "\n",
    "Theta Notation, θ\n",
    "\n",
    "The notation θ(n) is the formal way to express both the lower bound and the upper bound of an algorithm's running time. It is represented as follows −\n",
    "\n",
    "θ(f(n)) = { g(n) if and only if g(n) =  Ο(f(n)) and g(n) = Ω(f(n)) for all n > n0. }\n",
    "\n",
    "Common Asymptotic Notations:\n",
    "\n",
    "Following is a list of some common asymptotic notations −\n",
    "\n",
    "constant\t−\tΟ(1)\n",
    "\n",
    "logarithmic\t−\tΟ(log n)\n",
    "\n",
    "linear\t−\tΟ(n)\n",
    "\n",
    "n log n\t−\tΟ(n log n)\n",
    "\n",
    "quadratic\t−\tΟ(n2)\n",
    "\n",
    "cubic\t−\tΟ(n3)\n",
    "\n",
    "polynomial\t−\tnΟ(1)\n",
    "\n",
    "exponential\t−\t2Ο(n)"
   ]
  },
  {
   "cell_type": "code",
   "execution_count": null,
   "metadata": {},
   "outputs": [],
   "source": []
  }
 ],
 "metadata": {
  "kernelspec": {
   "display_name": "Python 3",
   "language": "python",
   "name": "python3"
  },
  "language_info": {
   "codemirror_mode": {
    "name": "ipython",
    "version": 3
   },
   "file_extension": ".py",
   "mimetype": "text/x-python",
   "name": "python",
   "nbconvert_exporter": "python",
   "pygments_lexer": "ipython3",
   "version": "3.8.5"
  }
 },
 "nbformat": 4,
 "nbformat_minor": 4
}
