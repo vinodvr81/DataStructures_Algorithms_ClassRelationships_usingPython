{
 "cells": [
  {
   "cell_type": "markdown",
   "metadata": {},
   "source": [
    "# Python - Maps"
   ]
  },
  {
   "cell_type": "markdown",
   "metadata": {},
   "source": [
    "Python Maps also called ChainMap is a type of data structure to manage multiple dictionaries together as one unit. The combined dictionary contains the key and value pairs in a specific sequence eliminating any duplicate keys. The best use of ChainMap is to search through multiple dictionaries at a time and get the proper key-value pair mapping. We also see that these ChainMaps behave as stack data structure. "
   ]
  },
  {
   "cell_type": "markdown",
   "metadata": {},
   "source": [
    "# Creating a ChainMap"
   ]
  },
  {
   "cell_type": "markdown",
   "metadata": {},
   "source": [
    "We create two dictionaries and club them using the ChainMap method from the collections library. Then we print the keys and values of the result of the combination of the dictionaries. If there are duplicate keys, then only the value from the first key is preserved. "
   ]
  },
  {
   "cell_type": "code",
   "execution_count": 1,
   "metadata": {},
   "outputs": [
    {
     "name": "stdout",
     "output_type": "stream",
     "text": [
      "[{'day1': 'Mon', 'day2': 'Tue'}, {'day3': 'Wed', 'day1': 'Thu'}] \n",
      "\n",
      "Keys = ['day3', 'day1', 'day2']\n",
      "Values = ['Wed', 'Mon', 'Tue']\n",
      "\n",
      "elements:\n",
      "day3 = Wed\n",
      "day1 = Mon\n",
      "day2 = Tue\n",
      "\n",
      "day3 in res: True\n",
      "day4 in res: False\n"
     ]
    }
   ],
   "source": [
    "import collections\n",
    "\n",
    "dict1 = {'day1': 'Mon', 'day2': 'Tue'}\n",
    "dict2 = {'day3': 'Wed', 'day1': 'Thu'}\n",
    "\n",
    "res = collections.ChainMap(dict1, dict2)\n",
    "\n",
    "# Creating a single dictionary\n",
    "print(res.maps,'\\n')\n",
    "\n",
    "print('Keys = {}'.format(list(res.keys())))\n",
    "print('Values = {}'.format(list(res.values())))\n",
    "print()\n",
    "\n",
    "# Print all the elements from the result\n",
    "print('elements:')\n",
    "for key, val in res.items():\n",
    "    print('{} = {}'.format(key, val))\n",
    "print()\n",
    "\n",
    "# Find a specific value in the result\n",
    "print('day3 in res: {}'.format(('day1' in res)))\n",
    "print('day4 in res: {}'.format(('day4' in res)))"
   ]
  },
  {
   "cell_type": "markdown",
   "metadata": {},
   "source": [
    "# Updating Map"
   ]
  },
  {
   "cell_type": "markdown",
   "metadata": {},
   "source": [
    "When the element of the dictionary is updated, the result is instantly updated in the result of the ChainMap. In the below example we see that the new updated value reflects in the result without explicitly applying the ChainMap method again."
   ]
  },
  {
   "cell_type": "code",
   "execution_count": 2,
   "metadata": {},
   "outputs": [
    {
     "name": "stdout",
     "output_type": "stream",
     "text": [
      "[{'day1': 'Mon', 'day2': 'Tue'}, {'day3': 'Wed', 'day4': 'Thu'}] \n",
      "\n",
      "[{'day1': 'Mon', 'day2': 'Tue'}, {'day3': 'Wed', 'day4': 'Fri'}] \n",
      "\n"
     ]
    }
   ],
   "source": [
    "import collections\n",
    "\n",
    "dict1 = {'day1': 'Mon', 'day2': 'Tue'}\n",
    "dict2 = {'day3': 'Wed', 'day4': 'Thu'}\n",
    "\n",
    "res = collections.ChainMap(dict1, dict2)\n",
    "\n",
    "print(res.maps,'\\n')\n",
    "\n",
    "dict2['day4'] = 'Fri'\n",
    "\n",
    "print(res.maps,'\\n')"
   ]
  },
  {
   "cell_type": "markdown",
   "metadata": {},
   "source": [
    "# Python - Linked Lists"
   ]
  },
  {
   "cell_type": "markdown",
   "metadata": {},
   "source": [
    "A linked list is a sequence of data elements, which are connected together via links. Each data element contains a connection to another data element in form of a pointer. Python does not have linked lists in its standard library. We implement the concept of linked lists using the concept of nodes.  In this type of data structure there is only one link between any two data elements. We create such a list and create additional methods to insert, update and remove elements from the list"
   ]
  },
  {
   "cell_type": "code",
   "execution_count": 9,
   "metadata": {},
   "outputs": [
    {
     "name": "stdout",
     "output_type": "stream",
     "text": [
      "(1)Beginning ------------\n",
      "Mon\n",
      "Tue\n",
      "(1)Ending ------------\n",
      "(2)Beginning ------------\n",
      "Thu\n",
      "Wed\n",
      "Mon\n",
      "Mon\n",
      "Tue\n",
      "(2)Ending ------------\n"
     ]
    }
   ],
   "source": [
    "class Node:\n",
    "    def __init__(self, dataval=None):\n",
    "        self.d = dataval\n",
    "        self.n = None\n",
    "\n",
    "class SLinkedList:\n",
    "    def __init__(self):\n",
    "        self.headval = None\n",
    "        \n",
    "    def listprint(self):\n",
    "        printval = self.headval\n",
    "        while printval is not None:\n",
    "            print (printval.d)\n",
    "            printval = printval.n\n",
    "    def AtBegining(self,newdata):\n",
    "        NewNode = Node(newdata)\n",
    "        NewNode.n = self.headval\n",
    "        self.headval = NewNode\n",
    "        \n",
    "    # Function to add newnode\n",
    "    def AtEnd(self, newdata):\n",
    "        NewNode = Node(newdata)\n",
    "        if self.headval is None:\n",
    "            self.headval = NewNode\n",
    "            return\n",
    "        laste = self.headval\n",
    "        while(laste.n):\n",
    "            laste = laste.n\n",
    "        laste.n=NewNode\n",
    "        \n",
    "    # Function to add node\n",
    "    def Inbetween(self,middle_node,newdata):\n",
    "        if middle_node is None:\n",
    "            print(\"The mentioned node is absent\")\n",
    "            return\n",
    "\n",
    "        NewNode = Node(n)\n",
    "        NewNode.n = middle_node.n\n",
    "        middle_node.n = NewNode     \n",
    "        \n",
    "    # Function to remove node\n",
    "    def RemoveNode(self, Removekey):\n",
    "\n",
    "        HeadVal = self.headval\n",
    "\n",
    "        if (HeadVal is not None):\n",
    "            if (HeadVal.d == Removekey):\n",
    "                self.head = HeadVal.n\n",
    "                HeadVal = None\n",
    "                return\n",
    "\n",
    "        while (HeadVal is not None):\n",
    "            if HeadVal.d == Removekey:\n",
    "                break\n",
    "            prev = HeadVal\n",
    "            HeadVal = HeadVal.n\n",
    "\n",
    "        if (HeadVal == None):\n",
    "            return\n",
    "\n",
    "        prev.n = HeadVal.n\n",
    "\n",
    "        HeadVal = None     \n",
    "        \n",
    "    def LListprint(self):\n",
    "        printval = self.headval\n",
    "        while (printval):\n",
    "            print(printval.d),\n",
    "            printval = printval.n        \n",
    "            \n",
    "\n",
    "list1 = SLinkedList()\n",
    "list1.headval = Node(\"Mon\")\n",
    "e2 = Node(\"Tue\")\n",
    "e3 = Node(\"Wed\")\n",
    "# Link first Node to second node\n",
    "list1.headval.n = e2\n",
    "\n",
    "# Link second Node to third node\n",
    "e2.nextval = e3\n",
    "print(\"(1)Beginning ------------\")\n",
    "list1.listprint()\n",
    "print(\"(1)Ending ------------\")\n",
    "list1.AtBegining(\"Mon\")\n",
    "list1.AtBegining(\"Tue\")\n",
    "list1.AtBegining(\"Wed\")\n",
    "list1.AtBegining(\"Thu\")\n",
    "list1.RemoveNode(\"Tue\")\n",
    "print(\"(2)Beginning ------------\")\n",
    "list1.LListprint()\n",
    "print(\"(2)Ending ------------\")\n",
    "list1.AtEnd(\"Thu\")"
   ]
  },
  {
   "cell_type": "markdown",
   "metadata": {},
   "source": [
    "# Linked List using a python Module"
   ]
  },
  {
   "cell_type": "code",
   "execution_count": 11,
   "metadata": {},
   "outputs": [
    {
     "name": "stdout",
     "output_type": "stream",
     "text": [
      "dllist()\n"
     ]
    }
   ],
   "source": [
    "from llist import dllist, dllistnode\n",
    "\n",
    "empty_lst = dllist()          # create an empty list\n",
    "print(empty_lst)\n"
   ]
  },
  {
   "cell_type": "code",
   "execution_count": 12,
   "metadata": {},
   "outputs": [
    {
     "name": "stdout",
     "output_type": "stream",
     "text": [
      "0\n",
      "0\n"
     ]
    }
   ],
   "source": [
    "print(len(empty_lst))         # display length of the list\n",
    "\n",
    "print(empty_lst.size)\n"
   ]
  },
  {
   "cell_type": "code",
   "execution_count": 13,
   "metadata": {},
   "outputs": [
    {
     "name": "stdout",
     "output_type": "stream",
     "text": [
      "None\n",
      "None\n"
     ]
    }
   ],
   "source": [
    "print(empty_lst.first)        # display the first node (nonexistent)\n",
    "\n",
    "print(empty_lst.last)         # display the last node (nonexistent)\n",
    "\n"
   ]
  },
  {
   "cell_type": "code",
   "execution_count": 14,
   "metadata": {},
   "outputs": [
    {
     "name": "stdout",
     "output_type": "stream",
     "text": [
      "dllist([1, 2, 3])\n",
      "3\n",
      "3\n"
     ]
    }
   ],
   "source": [
    "lst = dllist([1, 2, 3])       # create and initialize a list\n",
    "print(lst)                    # display elements in the list\n",
    "\n",
    "\n",
    "print(len(lst))               # display length of the list\n",
    "\n",
    "print(lst.size)\n",
    "\n"
   ]
  },
  {
   "cell_type": "code",
   "execution_count": 15,
   "metadata": {},
   "outputs": [
    {
     "name": "stdout",
     "output_type": "stream",
     "text": [
      "dllistnode(1)\n",
      "dllistnode(2)\n",
      "dllistnode(3)\n"
     ]
    }
   ],
   "source": [
    "print(lst.nodeat(0))          # access nodes by index\n",
    "\n",
    "print(lst.nodeat(1))\n",
    "\n",
    "print(lst.nodeat(2))\n"
   ]
  },
  {
   "cell_type": "code",
   "execution_count": 16,
   "metadata": {},
   "outputs": [
    {
     "name": "stdout",
     "output_type": "stream",
     "text": [
      "1\n",
      "2\n",
      "3\n"
     ]
    }
   ],
   "source": [
    "print(lst[0])                 # access elements by index\n",
    "\n",
    "print(lst[1])\n",
    "\n",
    "print(lst[2])\n"
   ]
  },
  {
   "cell_type": "code",
   "execution_count": 18,
   "metadata": {},
   "outputs": [
    {
     "name": "stdout",
     "output_type": "stream",
     "text": [
      "dllistnode(1)\n",
      "1\n",
      "1\n",
      "None\n",
      "dllistnode(2)\n",
      "2\n",
      "2\n",
      "4\n",
      "6\n"
     ]
    }
   ],
   "source": [
    "node = lst.first              # get the first node (same as lst[0])\n",
    "print(node)\n",
    "\n",
    "\n",
    "print(node.value)             # get value of node\n",
    "\n",
    "print(node())                 # get value of node\n",
    "\n",
    "print(node.prev)              # get the previous node (nonexistent)\n",
    "\n",
    "\n",
    "\n",
    "print(node.next)              # get the next node\n",
    "\n",
    "print(node.next.value)        # get value of the next node\n",
    "\n",
    "\n",
    "for value in lst:             # iterate over list elements\n",
    "    print(value * 2)\n",
    "\n"
   ]
  },
  {
   "cell_type": "code",
   "execution_count": 19,
   "metadata": {},
   "outputs": [
    {
     "name": "stdout",
     "output_type": "stream",
     "text": [
      "dllist([1, 2, 3, 4])\n",
      "dllist([1, 2, 3, 4, 5])\n",
      "dllist([0, 1, 2, 3, 4, 5])\n"
     ]
    }
   ],
   "source": [
    "lst.appendright(4)            # append value to the right side of the list\n",
    "\n",
    "print(lst)\n",
    "\n",
    "new_node = dllistnode(5)\n",
    "lst.appendright(new_node)     # append value from a node\n",
    "\n",
    "print(lst)\n",
    "\n",
    "lst.appendleft(0)             # append value to the left side of the list\n",
    "\n",
    "print(lst)\n",
    "\n"
   ]
  },
  {
   "cell_type": "code",
   "execution_count": 21,
   "metadata": {},
   "outputs": [
    {
     "name": "stdout",
     "output_type": "stream",
     "text": [
      "dllist([-3, -2, -1, 0, 1, 2, 3, 4, 5, 6, 7, 8, 6, 7, 8])\n",
      "dllist([-3, -2, -1, -3, -2, -1, 0, 1, 2, 3, 4, 5, 6, 7, 8, 6, 7, 8])\n"
     ]
    }
   ],
   "source": [
    "lst.extendright([6, 7, 8])    # right-extend list with elements from iterable\n",
    "print(lst)\n",
    "\n",
    "lst.extendleft([-1, -2, -3])  # left-extend list with elements from iterable\n",
    "print(lst)\n"
   ]
  },
  {
   "cell_type": "code",
   "execution_count": 22,
   "metadata": {},
   "outputs": [
    {
     "name": "stdout",
     "output_type": "stream",
     "text": [
      "dllist([0, 1, 1.5, 2, 3, 4, 5])\n",
      "dllist([0, 1, 1.5, 2, 3, 4, 5, 6])\n"
     ]
    }
   ],
   "source": [
    "lst = dllist([0, 1, 2, 3, 4, 5])\n",
    "node = lst.nodeat(2)\n",
    "lst.insert(1.5, node)         # insert 1.5 before node\n",
    "\n",
    "print(lst)\n",
    "\n",
    "lst.insert(6)                 # append value to the right side of the list\n",
    "\n",
    "print(lst)\n",
    "\n"
   ]
  },
  {
   "cell_type": "code",
   "execution_count": 23,
   "metadata": {},
   "outputs": [
    {
     "name": "stdout",
     "output_type": "stream",
     "text": [
      "dllist([1, 1.5, 2, 3, 4, 5, 6])\n",
      "dllist([1, 1.5, 2, 3, 4, 5])\n"
     ]
    }
   ],
   "source": [
    "lst.popleft()                 # remove leftmost node from the list\n",
    "\n",
    "print(lst)\n",
    "\n",
    "lst.popright()                # remove rightmost node from the list\n",
    "\n",
    "print(lst)\n",
    "\n"
   ]
  },
  {
   "cell_type": "code",
   "execution_count": 24,
   "metadata": {},
   "outputs": [
    {
     "name": "stdout",
     "output_type": "stream",
     "text": [
      "dllist([1, 2, 3, 4, 5])\n"
     ]
    },
    {
     "ename": "ValueError",
     "evalue": "dllistnode does not belong to a list",
     "output_type": "error",
     "traceback": [
      "\u001b[1;31m---------------------------------------------------------------------------\u001b[0m",
      "\u001b[1;31mValueError\u001b[0m                                Traceback (most recent call last)",
      "\u001b[1;32m<ipython-input-24-ad7235113e1a>\u001b[0m in \u001b[0;36m<module>\u001b[1;34m\u001b[0m\n\u001b[0;32m      5\u001b[0m \u001b[1;33m\u001b[0m\u001b[0m\n\u001b[0;32m      6\u001b[0m \u001b[0mforeign_node\u001b[0m \u001b[1;33m=\u001b[0m \u001b[0mdllistnode\u001b[0m\u001b[1;33m(\u001b[0m\u001b[1;33m)\u001b[0m   \u001b[1;31m# create an unassigned node\u001b[0m\u001b[1;33m\u001b[0m\u001b[1;33m\u001b[0m\u001b[0m\n\u001b[1;32m----> 7\u001b[1;33m \u001b[0mlst\u001b[0m\u001b[1;33m.\u001b[0m\u001b[0mremove\u001b[0m\u001b[1;33m(\u001b[0m\u001b[0mforeign_node\u001b[0m\u001b[1;33m)\u001b[0m      \u001b[1;31m# try to remove node not present in the list\u001b[0m\u001b[1;33m\u001b[0m\u001b[1;33m\u001b[0m\u001b[0m\n\u001b[0m\u001b[0;32m      8\u001b[0m \u001b[0mlst\u001b[0m\u001b[1;33m.\u001b[0m\u001b[0mclear\u001b[0m\u001b[1;33m(\u001b[0m\u001b[1;33m)\u001b[0m\u001b[1;33m\u001b[0m\u001b[1;33m\u001b[0m\u001b[0m\n\u001b[0;32m      9\u001b[0m \u001b[0mprint\u001b[0m\u001b[1;33m(\u001b[0m\u001b[0mlst\u001b[0m\u001b[1;33m)\u001b[0m\u001b[1;33m\u001b[0m\u001b[1;33m\u001b[0m\u001b[0m\n",
      "\u001b[1;31mValueError\u001b[0m: dllistnode does not belong to a list"
     ]
    }
   ],
   "source": [
    "node = lst.nodeat(1)\n",
    "lst.remove(node)              # remove 2nd node from the list\n",
    "\n",
    "print(lst)\n",
    "\n",
    "foreign_node = dllistnode()   # create an unassigned node\n",
    "lst.remove(foreign_node)      # try to remove node not present in the list\n",
    "lst.clear()\n",
    "print(lst)\n",
    "\n"
   ]
  },
  {
   "cell_type": "code",
   "execution_count": 25,
   "metadata": {},
   "outputs": [
    {
     "name": "stdout",
     "output_type": "stream",
     "text": [
      "dllist([4, 5, 1, 2, 3])\n",
      "dllist([3, 4, 5, 1, 2])\n"
     ]
    }
   ],
   "source": [
    "lst = dllist([1, 2, 3, 4, 5])\n",
    "lst.rotate(2)\n",
    "print(lst)\n",
    "\n",
    "lst = dllist([1, 2, 3, 4, 5])\n",
    "lst.rotate(-2)\n",
    "print(lst)\n"
   ]
  },
  {
   "cell_type": "code",
   "execution_count": 27,
   "metadata": {},
   "outputs": [
    {
     "data": {
      "text/plain": [
       "True"
      ]
     },
     "execution_count": 27,
     "metadata": {},
     "output_type": "execute_result"
    }
   ],
   "source": [
    "dllist() == dllist([])        # list comparison (lexicographical order)\n",
    "\n"
   ]
  },
  {
   "cell_type": "code",
   "execution_count": 28,
   "metadata": {},
   "outputs": [
    {
     "data": {
      "text/plain": [
       "False"
      ]
     },
     "execution_count": 28,
     "metadata": {},
     "output_type": "execute_result"
    }
   ],
   "source": [
    "dllist() != dllist([])\n"
   ]
  },
  {
   "cell_type": "code",
   "execution_count": 29,
   "metadata": {},
   "outputs": [
    {
     "data": {
      "text/plain": [
       "True"
      ]
     },
     "execution_count": 29,
     "metadata": {},
     "output_type": "execute_result"
    }
   ],
   "source": [
    "dllist([1, 2, 3]) < dllist([1, 3, 3])\n"
   ]
  },
  {
   "cell_type": "code",
   "execution_count": 30,
   "metadata": {},
   "outputs": [
    {
     "data": {
      "text/plain": [
       "False"
      ]
     },
     "execution_count": 30,
     "metadata": {},
     "output_type": "execute_result"
    }
   ],
   "source": [
    "dllist([1, 2]) > dllist([1, 2, 3])\n",
    "\n"
   ]
  },
  {
   "cell_type": "code",
   "execution_count": 31,
   "metadata": {},
   "outputs": [
    {
     "data": {
      "text/plain": [
       "False"
      ]
     },
     "execution_count": 31,
     "metadata": {},
     "output_type": "execute_result"
    }
   ],
   "source": [
    "dllist([1, 2, 3]) <= dllist()\n",
    "\n"
   ]
  },
  {
   "cell_type": "code",
   "execution_count": 32,
   "metadata": {},
   "outputs": [
    {
     "data": {
      "text/plain": [
       "True"
      ]
     },
     "execution_count": 32,
     "metadata": {},
     "output_type": "execute_result"
    }
   ],
   "source": [
    "dllist([1, 2, 3]) >= dllist([1, 2, 3])\n",
    "\n"
   ]
  },
  {
   "cell_type": "code",
   "execution_count": 33,
   "metadata": {},
   "outputs": [
    {
     "name": "stdout",
     "output_type": "stream",
     "text": [
      "dllist([1, 2, 3, 4, 5, 6, 7, 8])\n"
     ]
    }
   ],
   "source": [
    "lst1 = dllist([1, 2, 3, 4])   \n",
    "lst2 = dllist([5, 6, 7, 8])\n",
    "ext_lst = lst1 + lst2\n",
    "print(ext_lst)\n"
   ]
  },
  {
   "cell_type": "code",
   "execution_count": 34,
   "metadata": {},
   "outputs": [
    {
     "name": "stdout",
     "output_type": "stream",
     "text": [
      "dllist([1, 2, 3, 4, 1, 2, 3, 4])\n"
     ]
    }
   ],
   "source": [
    "lst = dllist([1, 2, 3, 4])\n",
    "ext_lst = lst * 2\n",
    "print(ext_lst)"
   ]
  },
  {
   "cell_type": "code",
   "execution_count": 35,
   "metadata": {},
   "outputs": [
    {
     "name": "stdout",
     "output_type": "stream",
     "text": [
      "dllist([1, 2, 3, 4, 1, 2, 3, 4])\n"
     ]
    }
   ],
   "source": [
    "lst1 = dllist([1, 2, 3, 4])   \n",
    "lst2 = dllist([1, 2, 3, 4])\n",
    "ext_lst = lst1 + lst2\n",
    "print(ext_lst)"
   ]
  },
  {
   "cell_type": "code",
   "execution_count": null,
   "metadata": {},
   "outputs": [],
   "source": []
  }
 ],
 "metadata": {
  "kernelspec": {
   "display_name": "Python 3",
   "language": "python",
   "name": "python3"
  },
  "language_info": {
   "codemirror_mode": {
    "name": "ipython",
    "version": 3
   },
   "file_extension": ".py",
   "mimetype": "text/x-python",
   "name": "python",
   "nbconvert_exporter": "python",
   "pygments_lexer": "ipython3",
   "version": "3.8.5"
  }
 },
 "nbformat": 4,
 "nbformat_minor": 4
}
