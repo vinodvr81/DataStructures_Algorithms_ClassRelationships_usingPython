{
 "cells": [
  {
   "cell_type": "markdown",
   "metadata": {},
   "source": [
    "# Binary Search"
   ]
  },
  {
   "cell_type": "markdown",
   "metadata": {},
   "source": [
    "\n",
    "Binary Search: Search a sorted array by repeatedly dividing the search interval in half. Begin with an interval covering the whole array. If the value of the search key is less than the item in the middle of the interval, narrow the interval to the lower half. Otherwise narrow it to the upper half. Repeatedly check until the value is found or the interval is empty."
   ]
  },
  {
   "cell_type": "markdown",
   "metadata": {},
   "source": [
    "# Recursive Binary Search"
   ]
  },
  {
   "cell_type": "code",
   "execution_count": 7,
   "metadata": {},
   "outputs": [
    {
     "name": "stdout",
     "output_type": "stream",
     "text": [
      "division 1\n",
      "mid value :2\n",
      "division 1\n",
      "mid value :3\n",
      "Element is present at index  3\n"
     ]
    }
   ],
   "source": [
    "# l = left side and r - right side\n",
    "def binarySearch (arr, l, r, x): \n",
    "  \n",
    "    # Check base case \n",
    "    if r >= l: \n",
    "        print(\"division {0}\".format((r-1)//2))\n",
    "        mid = l + (r - l) // 2\n",
    "        print(\"mid value :{0}\".format(mid))\n",
    "        # If element is present at the middle itself \n",
    "        if arr[mid] == x: \n",
    "            return mid \n",
    "          \n",
    "        # If element is smaller than mid, then it can only be present in left subarray \n",
    "        \n",
    "        elif arr[mid] > x: \n",
    "            return binarySearch(arr, l, mid-1, x) \n",
    "  \n",
    "        # Else the element can only be present in right subarray \n",
    "    \n",
    "        else: \n",
    "            return binarySearch(arr, mid + 1, r, x) \n",
    "  \n",
    "    else: \n",
    "        # Element is not present in the array \n",
    "        return -1\n",
    "  \n",
    "# Driver Code \n",
    "arr = [ 2, 3, 4, 10, 40 ] \n",
    "x = 10\n",
    "  \n",
    "# Function call \n",
    "result = binarySearch(arr, 0, len(arr)-1, x) \n",
    "  \n",
    "if result != -1: \n",
    "    print (\"Element is present at index % d\" % result) \n",
    "else: \n",
    "    print (\"Element is not present in array\") "
   ]
  },
  {
   "cell_type": "markdown",
   "metadata": {},
   "source": [
    "# Iterative Binary Search"
   ]
  },
  {
   "cell_type": "code",
   "execution_count": 9,
   "metadata": {},
   "outputs": [
    {
     "name": "stdout",
     "output_type": "stream",
     "text": [
      "l value 0 and r value 4\n",
      "l value 3 and r value 4\n",
      "Element is present at index  3\n"
     ]
    }
   ],
   "source": [
    "# Python3 code to implement iterative Binary  \n",
    "# Search. \n",
    "  \n",
    "# It returns location of x in given array arr  \n",
    "# if present, else returns -1 \n",
    "def binarySearch(arr, l, r, x): \n",
    "  \n",
    "    while l <= r: \n",
    "        print(\"l value {0} and r value {1}\".format(l,r))\n",
    "        mid = l + (r - l) // 2; \n",
    "          \n",
    "        # Check if x is present at mid \n",
    "        if arr[mid] == x: \n",
    "            return mid \n",
    "  \n",
    "        # If x is greater, ignore left half \n",
    "        elif arr[mid] < x: \n",
    "            l = mid + 1\n",
    "  \n",
    "        # If x is smaller, ignore right half \n",
    "        else: \n",
    "            r = mid - 1\n",
    "      \n",
    "    # If we reach here, then the element \n",
    "    # was not present \n",
    "    return -1\n",
    "  \n",
    "# Driver Code \n",
    "\n",
    "arr = [ 2, 3, 4, 10, 40 ] \n",
    "x = 10\n",
    "  \n",
    "# Function call \n",
    "result = binarySearch(arr, 0, len(arr)-1, x) \n",
    "  \n",
    "if result != -1: \n",
    "    print (\"Element is present at index % d\" % result) \n",
    "else: \n",
    "    print (\"Element is not present in array\") \n"
   ]
  },
  {
   "cell_type": "markdown",
   "metadata": {},
   "source": [
    "Time Complexity:\n",
    "The time complexity of Binary Search can be written as\n",
    "\n",
    "T(n) = T(n/2) + c \n",
    "The above recurrence can be solved either using Recurrence Tree method or Master method. It falls in case II of Master Method and solution of the recurrence is Theta(Logn).\n",
    "\n",
    "Auxiliary Space: O(1) in case of iterative implementation. In case of recursive implementation, O(Logn) recursion call stack space."
   ]
  },
  {
   "cell_type": "markdown",
   "metadata": {},
   "source": [
    "# Linear Search"
   ]
  },
  {
   "cell_type": "markdown",
   "metadata": {},
   "source": [
    "A simple approach is to do a linear search, i.e  \n",
    "\n",
    "(a) Start from the leftmost element of arr[] and one by one compare x with each element of arr[]\n",
    "\n",
    "(b) If x matches with an element, return the index.\n",
    "\n",
    "(c) If x doesn’t match with any of elements, return -1."
   ]
  },
  {
   "cell_type": "code",
   "execution_count": 11,
   "metadata": {},
   "outputs": [
    {
     "name": "stdout",
     "output_type": "stream",
     "text": [
      "Element is present at index 3\n"
     ]
    }
   ],
   "source": [
    "def search(arr, x): \n",
    "  \n",
    "    for i,v in enumerate(arr):\n",
    "        if (v == x): \n",
    "            return i \n",
    "    return -1\n",
    "  \n",
    "  \n",
    "\n",
    "arr = [2, 3, 4, 10, 40] \n",
    "x = 10\n",
    "  \n",
    "\n",
    "result = search(arr, x) \n",
    "if(result == -1): \n",
    "    print(\"Element is not present in array\") \n",
    "else: \n",
    "    print(\"Element is present at index\", result)"
   ]
  },
  {
   "cell_type": "markdown",
   "metadata": {},
   "source": [
    "The time complexity of the above algorithm is O(n). \n",
    "\n",
    "Linear search is rarely used practically because other search algorithms such as the binary search algorithm and hash tables allow significantly faster-searching comparison to Linear search.\n",
    "\n",
    "Improve Linear Search Worst-Case Complexity\n",
    "\n",
    "if element Found at last  O(n) to O(1)\n",
    "\n",
    "if element Not found O(n) to O(n/2)"
   ]
  },
  {
   "cell_type": "markdown",
   "metadata": {},
   "source": [
    "# The Interpolation Search"
   ]
  },
  {
   "cell_type": "markdown",
   "metadata": {},
   "source": [
    "This is an improvement over Binary Search for instances, where the values in a sorted array are uniformly distributed. Binary Search always goes to the middle element to check. On the other hand, interpolation search may go to different locations according to the value of the key being searched. For example, if the value of the key is closer to the last element, interpolation search is likely to start search toward the end side.\n",
    "\n",
    "To find the position to be searched, it uses following Algorithm\n",
    "\n",
    "Algorithm :\n",
    "\n",
    "Rest of the Interpolation algorithm is the same except the above partition logic. \n",
    "\n",
    "Step1: In a loop, calculate the value of “pos” using the probe position formula. \n",
    "\n",
    "Step2: If it is a match, return the index of the item, and exit. \n",
    "\n",
    "Step3: If the item is less than arr[pos], calculate the probe position of the left sub-array. Otherwise calculate the same in the right sub-array. \n",
    "\n",
    "Step4: Repeat until a match is found or the sub-array reduces to zero.\n",
    "\n",
    "Below is the implementation of algorithm. "
   ]
  },
  {
   "cell_type": "markdown",
   "metadata": {},
   "source": [
    "Let's assume that the elements of the array are linearly distributed. \n",
    "\n",
    "General equation of line : y = m*x + c.\n",
    "\n",
    "y is the value in the array and x is its index.\n",
    "\n",
    "Now putting value of lo, hi and x in the equation\n",
    "\n",
    "arr[hi] = m*hi+c ----(1)\n",
    "\n",
    "arr[lo] = m*lo+c ----(2)\n",
    "\n",
    "x = m*pos + c     ----(3)\n",
    "\n",
    "m = (arr[hi] - arr[lo] )/ (hi - lo)\n",
    "\n",
    "subtracting eqxn (2) from (3)\n",
    "\n",
    "x - arr[lo] = m * (pos - lo)\n",
    "\n",
    "lo + (x - arr[lo])/m = pos\n",
    "\n",
    "pos = lo + (x - arr[lo]) *(hi - lo)/(arr[hi] - arr[lo])\n",
    "\n",
    "arr[] ==> Array where elements need to be searched\n",
    "\n",
    "x     ==> Element to be searched\n",
    "\n",
    "lo    ==> Starting index in arr[]\n",
    "\n",
    "hi    ==> Ending index in arr[]"
   ]
  },
  {
   "cell_type": "code",
   "execution_count": 13,
   "metadata": {},
   "outputs": [
    {
     "name": "stdout",
     "output_type": "stream",
     "text": [
      "Element found at index 4\n"
     ]
    }
   ],
   "source": [
    "def interpolationSearch(arr, lo, hi, x):\n",
    " \n",
    "    # Since array is sorted, an element present in array must be in range defined by corner\n",
    "    if (lo <= hi and x >= arr[lo] and x <= arr[hi]):\n",
    " \n",
    "        # Probing the position with keeping uniform distribution in mind.\n",
    "        pos = lo + ((hi - lo) // (arr[hi] - arr[lo]) *  (x - arr[lo]))\n",
    " \n",
    "        # Condition of target found\n",
    "        if arr[pos] == x:\n",
    "            return pos\n",
    " \n",
    "        # If x is larger, x is in right subarray\n",
    "        if arr[pos] < x:\n",
    "            return interpolationSearch(arr, pos + 1,hi, x)\n",
    " \n",
    "        # If x is smaller, x is in left subarray\n",
    "        if arr[pos] > x:\n",
    "            return interpolationSearch(arr, lo, pos - 1, x)\n",
    "    return -1\n",
    "\n",
    "arr = [10, 12, 13, 16, 18, 19, 20, 21, 22, 23, 24, 33, 35, 42, 47]\n",
    "n = len(arr)\n",
    " \n",
    "# Element to be searched\n",
    "x = 18\n",
    "index = interpolationSearch(arr, 0, n - 1, x)\n",
    " \n",
    "if index != -1:\n",
    "    print(\"Element found at index\", index)\n",
    "else:\n",
    "    print(\"Element not found\")"
   ]
  },
  {
   "cell_type": "markdown",
   "metadata": {},
   "source": [
    "# Jump Search"
   ]
  },
  {
   "cell_type": "markdown",
   "metadata": {},
   "source": [
    "Like Binary Search, Jump Search is a searching algorithm for sorted arrays. The basic idea is to check fewer elements (than linear search) by jumping ahead by fixed steps or skipping some elements in place of searching all elements.\n",
    "\n",
    "For example, suppose we have an array arr[] of size n and block (to be jumped) size m. Then we search at the indexes arr[0], arr[m], arr[2m]…..arr[km] and so on. Once we find the interval (arr[km] < x < arr[(k+1)m]), we perform a linear search operation from the index km to find the element x.\n",
    "\n",
    "Let’s consider the following array: (0, 1, 1, 2, 3, 5, 8, 13, 21, 34, 55, 89, 144, 233, 377, 610). Length of the array is 16. Jump search will find the value of 55 with the following steps assuming that the block size to be jumped is 4.\n",
    "    \n",
    "STEP 1: Jump from index 0 to index 4;\n",
    "    \n",
    "STEP 2: Jump from index 4 to index 8;\n",
    "    \n",
    "STEP 3: Jump from index 8 to index 12;\n",
    "    \n",
    "STEP 4: Since the element at index 12 is greater than 55 we will jump back a step to come to index 8.\n",
    "    \n",
    "STEP 5: Perform linear search from index 8 to get the element 55.\n",
    "    \n",
    "What is the optimal block size to be skipped?\n",
    "\n",
    "In the worst case, we have to do n/m jumps and if the last checked value is greater than the element to be searched for, we perform m-1 comparisons more for linear search. Therefore the total number of comparisons in the worst case will be ((n/m) + m-1). The value of the function ((n/m) + m-1) will be minimum when m = √n. Therefore, the best step size is m = √n.    "
   ]
  },
  {
   "cell_type": "code",
   "execution_count": 21,
   "metadata": {},
   "outputs": [
    {
     "name": "stdout",
     "output_type": "stream",
     "text": [
      "4.0\n",
      "8.0\n",
      "12.0\n",
      "after step now prev: 8.0\n",
      "Number 55 is at index 10\n"
     ]
    }
   ],
   "source": [
    "import math\n",
    "\n",
    "def jumpSearch( arr , x , n): \n",
    "      \n",
    "    # Finding block size to be jumped \n",
    "    \n",
    "    step = math.sqrt(n) \n",
    "    print(step)  \n",
    "    # Finding the block where element is present (if it is present) \n",
    "    \n",
    "    prev = 0\n",
    "    while arr[int(min(step, n)-1)] < x: \n",
    "        prev = step \n",
    "        step += math.sqrt(n) \n",
    "        print(step) \n",
    "        if prev >= n: \n",
    "            return -1\n",
    "      \n",
    "    # Doing a linear search for x in block beginning with prev. \n",
    "    print(\"after step now prev: {0}\".format(prev))\n",
    "    while arr[int(prev)] < x: \n",
    "        prev += 1\n",
    "          \n",
    "        # If we reached next block or end of array, element is not present. \n",
    "        \n",
    "        if prev == min(step, n): \n",
    "            return -1\n",
    "      \n",
    "    # If element is found \n",
    "    \n",
    "    if arr[int(prev)] == x: \n",
    "        return prev \n",
    "      \n",
    "    return -1\n",
    "\n",
    "arr = [ 0, 1, 1, 2, 3, 5, 8, 13, 21, 34, 55, 89, 144, 233, 377, 610 ] \n",
    "x = 55\n",
    "n = len(arr) \n",
    "  \n",
    "index = jumpSearch(arr, x, n) \n",
    "  \n",
    "\n",
    "print(\"Number\" , x, \"is at index\" ,\"%.0f\"%index) "
   ]
  },
  {
   "cell_type": "markdown",
   "metadata": {},
   "source": [
    "Time Complexity : O(√n)\n",
    "\n",
    "Auxiliary Space : O(1)\n",
    "\n",
    "Important points:\n",
    "\n",
    "Works only sorted arrays.\n",
    "\n",
    "The optimal size of a block to be jumped is (√ n). This makes the time complexity of Jump Search O(√ n).\n",
    "\n",
    "The time complexity of Jump Search is between Linear Search ( ( O(n) ) and Binary Search ( O (Log n) ).\n",
    "\n",
    "Binary Search is better than Jump Search, but Jump search has an advantage that we traverse back only once (Binary Search may require up to O(Log n) jumps, consider a situation where the element to be searched is the smallest element or smaller than the smallest). So in a system where binary search is costly, we use Jump Search."
   ]
  },
  {
   "cell_type": "markdown",
   "metadata": {},
   "source": [
    "# Exponential Search"
   ]
  },
  {
   "cell_type": "markdown",
   "metadata": {},
   "source": [
    "The name of this searching algorithm may be misleading as it works in O(Log n) time. The name comes from the way it searches an element."
   ]
  },
  {
   "cell_type": "markdown",
   "metadata": {},
   "source": [
    "Exponential search involves two steps:  \n",
    "\n",
    "(a) Find range where element is present\n",
    "\n",
    "(b) Do Binary Search in above found range."
   ]
  },
  {
   "cell_type": "markdown",
   "metadata": {},
   "source": [
    "# How to find the range where element may be present? \n"
   ]
  },
  {
   "cell_type": "markdown",
   "metadata": {},
   "source": [
    "The idea is to start with subarray size 1, compare its last element with x, then try size 2, then 4 and so on until last element of a subarray is not greater. \n",
    "Once we find an index i (after repeated doubling of i), we know that the element must be present between i/2 and i (Why i/2? because we could not find a greater value in previous iteration)\n",
    "Given below are the implementations of above steps."
   ]
  },
  {
   "cell_type": "code",
   "execution_count": 29,
   "metadata": {},
   "outputs": [
    {
     "name": "stdout",
     "output_type": "stream",
     "text": [
      "value at which binary search is called 4\n",
      "3.0\n",
      "Element is present at index 3\n"
     ]
    }
   ],
   "source": [
    "# Python program to find an element x\n",
    "# in a sorted array using Exponential Search\n",
    " \n",
    "# A recurssive binary search function returns \n",
    "# location  of x in given array arr[l..r] is \n",
    "# present, otherwise -1\n",
    "def binarySearch(arr, l, r, x):    \n",
    "    if r >= l:\n",
    "        mid = int(l + ( r-l ) / 2)\n",
    "        print(l + ( r-l ) / 2) \n",
    "        # If the element is present at the middle itself\n",
    "        if arr[mid] == x:\n",
    "            return mid\n",
    "         \n",
    "        # If the element is smaller than mid, then it can only be present in the left subarray\n",
    "        if arr[mid] > x:\n",
    "            return binarySearch(arr, l,mid - 1, x)\n",
    "         \n",
    "        # Else he element can only be present in the right\n",
    "        return binarySearch(arr, mid + 1, r, x)\n",
    "         \n",
    "    # We reach here if the element is not present\n",
    "    return -1\n",
    " \n",
    "# Returns the position of first occurrence of x in array\n",
    "def exponentialSearch(arr, n, x):\n",
    "    # IF x is present at first location itself\n",
    "    if arr[0] == x:\n",
    "        return 0\n",
    "         \n",
    "    # Find range for binary search j by repeated doubling\n",
    "    i = 1\n",
    "    while i < n and arr[i] <= x:\n",
    "        i = i * 2\n",
    "    print(\"value at which binary search is called {0}\".format(i)) \n",
    "    # Call binary search for the found range\n",
    "    return binarySearch( arr, i / 2, min(i, n-1), x)\n",
    "     \n",
    "arr = [2, 3, 4, 10, 40]\n",
    "n = len(arr)\n",
    "x = 10\n",
    "result = exponentialSearch(arr, n, x)\n",
    "if result == -1:\n",
    "    print(\"Element not found in thye array\")\n",
    "else:\n",
    "    print(\"Element is present at index {0}\".format(result))"
   ]
  },
  {
   "cell_type": "markdown",
   "metadata": {},
   "source": [
    "Time Complexity : O(Log n) \n",
    "    \n",
    "Auxiliary Space : The above implementation of Binary Search is recursive and requires O(Log n) space. With iterative Binary Search, we need only O(1) space.\n",
    "\n",
    "Applications of Exponential Search: \n",
    "\n",
    "Exponential Binary Search is particularly useful for unbounded searches, where size of array is infinite. Please refer Unbounded Binary Search for an example.\n",
    "\n",
    "It works better than Binary Search for bounded arrays, and also when the element to be searched is closer to the first element."
   ]
  },
  {
   "cell_type": "markdown",
   "metadata": {},
   "source": [
    "# Ternary Search"
   ]
  },
  {
   "cell_type": "markdown",
   "metadata": {},
   "source": [
    "Ternary search is a divide and conquer algorithm that can be used to find an element in an array. It is similar to binary search where we divide the array into two parts but in this algorithm, we divide the given array into three parts and determine which has the key (searched element). We can divide the array into three parts by taking mid1 and mid2 which can be calculated as shown below. Initially, l and r will be equal to 0 and n-1 respectively, where n is the length of the array. "
   ]
  },
  {
   "cell_type": "markdown",
   "metadata": {},
   "source": [
    "mid1 = l + (r-l)/3 \n",
    "\n",
    "mid2 = r – (r-l)/3 \n",
    "\n",
    "Note: Array needs to be sorted to perform ternary search on it.\n",
    "\n",
    "Steps to perform Ternary Search: \n",
    "\n",
    "(1). First, we compare the key with the element at mid1. If found equal, we return mid1.\n",
    "\n",
    "(2). If not, then we compare the key with the element at mid2. If found equal, we return mid2.\n",
    "\n",
    "(3). If not, then we check whether the key is less than the element at mid1. If yes, then recur to the first part.\n",
    "\n",
    "(4). If not, then we check whether the key is greater than the element at mid2. If yes, then recur to the third part.\n",
    "\n",
    "(5). If not, then we recur to the second (middle) part."
   ]
  },
  {
   "cell_type": "code",
   "execution_count": 35,
   "metadata": {},
   "outputs": [
    {
     "name": "stdout",
     "output_type": "stream",
     "text": [
      "Index of 5 is 4\n",
      "Index of 50 is -1\n"
     ]
    }
   ],
   "source": [
    "import math as mt\n",
    " \n",
    "# Function to perform Ternary Search\n",
    "\n",
    "def ternarySearch(l, r, key, ar):\n",
    " \n",
    "    if (r >= l):\n",
    " \n",
    "        # Find the mid1 and mid2\n",
    "        mid1 = l + (r - l) //3\n",
    "        mid2 = r - (r - l) //3\n",
    " \n",
    "        # Check if key is present at any mid\n",
    "        if (ar[mid1] == key): \n",
    "            return mid1\n",
    "         \n",
    "        if (ar[mid2] == key): \n",
    "            return mid2\n",
    "         \n",
    "        # Since key is not present at mid, check in which region it is present then repeat the Search operation in that region\n",
    "        if (key < ar[mid1]): \n",
    " \n",
    "            # The key lies in between l and mid1\n",
    "            return ternarySearch(l, mid1 - 1, key, ar)\n",
    "         \n",
    "        elif (key > ar[mid2]): \n",
    " \n",
    "            # The key lies in between mid2 and r\n",
    "            return ternarySearch(mid2 + 1, r, key, ar)\n",
    "         \n",
    "        else:  \n",
    "            # The key lies in between mid1 and mid2\n",
    "            return ternarySearch(mid1 + 1, mid2 - 1, key, ar)\n",
    "         \n",
    "    # Key not found\n",
    "    return -1\n",
    " \n",
    "# Driver code\n",
    "l, r, p = 0, 9, 5\n",
    " \n",
    "# Get the array Sort the array if not sorted\n",
    "ar = [ 1, 2, 3, 4, 5, 6, 7, 8, 9, 10 ]\n",
    " \n",
    "# Starting index\n",
    "l = 0\n",
    " \n",
    "# length of array\n",
    "r = len(ar)-1\n",
    " \n",
    "# Checking for 5\n",
    " \n",
    "# Key to be searched in the array\n",
    "key = 5\n",
    " \n",
    "# Search the key using ternarySearch\n",
    "p = ternarySearch(l, r, key, ar)\n",
    " \n",
    "# Print the result\n",
    "print(\"Index of\", key, \"is\", p)\n",
    " \n",
    "# Checking for 50\n",
    " \n",
    "# Key to be searched in the array\n",
    "key = 50\n",
    " \n",
    "# Search the key using ternarySearch\n",
    "p = ternarySearch(l, r, key, ar)\n",
    " \n",
    "# Print the result\n",
    "print(\"Index of\", key, \"is\", p)"
   ]
  },
  {
   "cell_type": "code",
   "execution_count": 36,
   "metadata": {},
   "outputs": [
    {
     "data": {
      "text/plain": [
       "10"
      ]
     },
     "execution_count": 36,
     "metadata": {},
     "output_type": "execute_result"
    }
   ],
   "source": [
    "len(ar)"
   ]
  },
  {
   "cell_type": "markdown",
   "metadata": {},
   "source": [
    "# Iterative Ternary Search"
   ]
  },
  {
   "cell_type": "code",
   "execution_count": 37,
   "metadata": {},
   "outputs": [
    {
     "name": "stdout",
     "output_type": "stream",
     "text": [
      "Index of 5 is 4\n",
      "Index of 50 is -1\n"
     ]
    }
   ],
   "source": [
    "def ternarySearch(l, r, key, ar):\n",
    "    while r >= l:\n",
    "         \n",
    "        # Find mid1 and mid2\n",
    "        mid1 = l + (r-l) // 3\n",
    "        mid2 = r - (r-l) // 3\n",
    " \n",
    "        # Check if key is at any mid\n",
    "        if key == ar[mid1]:\n",
    "            return mid1\n",
    "        if key == mid2:\n",
    "            return mid2\n",
    " \n",
    "        # Since key is not present at mid, \n",
    "        # Check in which region it is present\n",
    "        # Then repeat the search operation in that region\n",
    "        if key < ar[mid1]:\n",
    "            # key lies between l and mid1\n",
    "            r = mid1 - 1\n",
    "        elif key > ar[mid2]:\n",
    "            # key lies between mid2 and r\n",
    "            l = mid2 + 1\n",
    "        else:\n",
    "            # key lies between mid1 and mid2\n",
    "            l = mid1 + 1\n",
    "            r = mid2 - 1\n",
    " \n",
    "    # key not found\n",
    "    return -1\n",
    " \n",
    "# Driver code\n",
    " \n",
    "# Get the list\n",
    "# Sort the list if not sorted\n",
    "ar = [1, 2, 3, 4, 5, 6, 7, 8, 9, 10]\n",
    " \n",
    "# Starting index\n",
    "l = 0\n",
    " \n",
    "# Length of list\n",
    "r = 9\n",
    " \n",
    "# Checking for 5\n",
    "# Key to be searched in the list\n",
    "key = 5\n",
    " \n",
    "# Search the key using ternary search\n",
    "p = ternarySearch(l, r, key, ar)\n",
    " \n",
    "# Print the result\n",
    "print(\"Index of\", key, \"is\", p)\n",
    " \n",
    "# Checking for 50\n",
    "# Key to be searched in the list\n",
    "key = 50\n",
    " \n",
    "# Search the key using ternary search\n",
    "p = ternarySearch(l, r, key, ar)\n",
    " \n",
    "# Print the result\n",
    "print(\"Index of\", key, \"is\", p)"
   ]
  },
  {
   "cell_type": "code",
   "execution_count": 38,
   "metadata": {},
   "outputs": [
    {
     "data": {
      "text/plain": [
       "10"
      ]
     },
     "execution_count": 38,
     "metadata": {},
     "output_type": "execute_result"
    }
   ],
   "source": [
    "len(ar)"
   ]
  },
  {
   "cell_type": "code",
   "execution_count": null,
   "metadata": {},
   "outputs": [],
   "source": []
  }
 ],
 "metadata": {
  "kernelspec": {
   "display_name": "Python 3",
   "language": "python",
   "name": "python3"
  },
  "language_info": {
   "codemirror_mode": {
    "name": "ipython",
    "version": 3
   },
   "file_extension": ".py",
   "mimetype": "text/x-python",
   "name": "python",
   "nbconvert_exporter": "python",
   "pygments_lexer": "ipython3",
   "version": "3.8.5"
  }
 },
 "nbformat": 4,
 "nbformat_minor": 4
}
