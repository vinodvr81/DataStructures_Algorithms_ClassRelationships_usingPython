{
 "cells": [
  {
   "cell_type": "markdown",
   "metadata": {},
   "source": [
    "# Python - Binary Tree"
   ]
  },
  {
   "cell_type": "markdown",
   "metadata": {},
   "source": [
    "# Implementing Binary Tree using Python Package"
   ]
  },
  {
   "cell_type": "code",
   "execution_count": null,
   "metadata": {},
   "outputs": [],
   "source": []
  },
  {
   "cell_type": "code",
   "execution_count": 1,
   "metadata": {},
   "outputs": [
    {
     "name": "stdout",
     "output_type": "stream",
     "text": [
      "\n",
      "       ____14\n",
      "      /      \\\n",
      "  ___6__      2\n",
      " /      \\      \\\n",
      "11       4      1\n",
      "  \\     /        \\\n",
      "   3   9          7\n",
      "\n"
     ]
    }
   ],
   "source": [
    "from binarytree import tree, bst, heap\n",
    "\n",
    "# Generate a random binary tree and return its root node\n",
    "my_tree = tree(height=3, is_perfect=False)\n",
    "\n",
    "# Pretty-print the trees in stdout\n",
    "print(my_tree)"
   ]
  },
  {
   "cell_type": "code",
   "execution_count": 2,
   "metadata": {},
   "outputs": [
    {
     "name": "stdout",
     "output_type": "stream",
     "text": [
      "\n",
      "        ________10_______\n",
      "       /                 \\\n",
      "    __9___              __3___\n",
      "   /      \\            /      \\\n",
      "  8       _0         _6       _1\n",
      " / \\     /  \\       /  \\     /  \\\n",
      "7   5   13   11    12   2   14   4\n",
      "\n"
     ]
    }
   ],
   "source": [
    "my_tree_per = tree(height=3, is_perfect=True)\n",
    "print(my_tree_per)"
   ]
  },
  {
   "cell_type": "code",
   "execution_count": 3,
   "metadata": {},
   "outputs": [
    {
     "name": "stdout",
     "output_type": "stream",
     "text": [
      "\n",
      "        ______7_______\n",
      "       /              \\\n",
      "    __3__           ___11___\n",
      "   /     \\         /        \\\n",
      "  1       5       9         _13\n",
      " / \\     / \\     / \\       /   \\\n",
      "0   2   4   6   8   10    12    14\n",
      "\n"
     ]
    }
   ],
   "source": [
    "# Generate a random BST and return its root node\n",
    "my_bst = bst(height=3, is_perfect=True)\n",
    "\n",
    "print(my_bst)"
   ]
  },
  {
   "cell_type": "code",
   "execution_count": 4,
   "metadata": {},
   "outputs": [
    {
     "name": "stdout",
     "output_type": "stream",
     "text": [
      "\n",
      "    3\n",
      "   / \\\n",
      "  1   4__\n",
      " /       \\\n",
      "0         6\n",
      "         / \\\n",
      "        5   9\n",
      "\n"
     ]
    }
   ],
   "source": [
    "my_bst_non_per = bst(height=3, is_perfect=False)\n",
    "print(my_bst_non_per)"
   ]
  },
  {
   "cell_type": "code",
   "execution_count": 5,
   "metadata": {},
   "outputs": [
    {
     "name": "stdout",
     "output_type": "stream",
     "text": [
      "\n",
      "         _______14______\n",
      "        /               \\\n",
      "    ___11__            __13__\n",
      "   /       \\          /      \\\n",
      "  10        7        9        12\n",
      " /  \\      / \\      / \\      /\n",
      "2    3    5   6    0   8    4\n",
      "\n"
     ]
    }
   ],
   "source": [
    "# Generate a random max heap and return its root node\n",
    "my_heap = heap(height=3, is_max=True, is_perfect=False)\n",
    "print(my_heap)"
   ]
  },
  {
   "cell_type": "code",
   "execution_count": 6,
   "metadata": {},
   "outputs": [
    {
     "name": "stdout",
     "output_type": "stream",
     "text": [
      "\n",
      "        ______14________\n",
      "       /                \\\n",
      "    __9__            ____13__\n",
      "   /     \\          /        \\\n",
      "  7       6        12         11\n",
      " / \\     / \\      /  \\       /  \\\n",
      "0   2   3   4    1    10    8    5\n",
      "\n"
     ]
    }
   ],
   "source": [
    "my_heap_per = heap(height=3, is_max=True, is_perfect=True)\n",
    "print(my_heap_per)"
   ]
  },
  {
   "cell_type": "code",
   "execution_count": 7,
   "metadata": {},
   "outputs": [
    {
     "name": "stdout",
     "output_type": "stream",
     "text": [
      "\n",
      "  __1\n",
      " /   \\\n",
      "2     3\n",
      " \\\n",
      "  4\n",
      "\n"
     ]
    }
   ],
   "source": [
    "from binarytree import Node\n",
    "\n",
    "root = Node(1)\n",
    "root.left = Node(2)\n",
    "root.right = Node(3)\n",
    "root.left.right = Node(4)\n",
    "\n",
    "print(root)"
   ]
  },
  {
   "cell_type": "code",
   "execution_count": 8,
   "metadata": {},
   "outputs": [
    {
     "name": "stdout",
     "output_type": "stream",
     "text": [
      "\n",
      "    __1\n",
      "   /   \\\n",
      "  2     3\n",
      " / \\\n",
      "5   4\n",
      "\n"
     ]
    }
   ],
   "source": [
    "root.left.left = Node(5) \n",
    "print(root)"
   ]
  },
  {
   "cell_type": "code",
   "execution_count": 9,
   "metadata": {},
   "outputs": [
    {
     "name": "stdout",
     "output_type": "stream",
     "text": [
      "\n",
      "    __1__\n",
      "   /     \\\n",
      "  2       3\n",
      " / \\     / \\\n",
      "5   4   6   7\n",
      "\n"
     ]
    }
   ],
   "source": [
    "root.right.left = Node(6)\n",
    "root.right.right = Node(7)\n",
    "print(root)"
   ]
  },
  {
   "cell_type": "code",
   "execution_count": 10,
   "metadata": {},
   "outputs": [
    {
     "data": {
      "text/plain": [
       "binarytree.Node"
      ]
     },
     "execution_count": 10,
     "metadata": {},
     "output_type": "execute_result"
    }
   ],
   "source": [
    "type(root)"
   ]
  },
  {
   "cell_type": "code",
   "execution_count": 11,
   "metadata": {},
   "outputs": [
    {
     "data": {
      "text/plain": [
       "binarytree.Node"
      ]
     },
     "execution_count": 11,
     "metadata": {},
     "output_type": "execute_result"
    }
   ],
   "source": [
    "type(root.right.right)"
   ]
  },
  {
   "cell_type": "code",
   "execution_count": 12,
   "metadata": {},
   "outputs": [
    {
     "data": {
      "text/plain": [
       "2"
      ]
     },
     "execution_count": 12,
     "metadata": {},
     "output_type": "execute_result"
    }
   ],
   "source": [
    "root.height"
   ]
  },
  {
   "cell_type": "code",
   "execution_count": 13,
   "metadata": {},
   "outputs": [
    {
     "data": {
      "text/plain": [
       "True"
      ]
     },
     "execution_count": 13,
     "metadata": {},
     "output_type": "execute_result"
    }
   ],
   "source": [
    "root.is_balanced"
   ]
  },
  {
   "cell_type": "code",
   "execution_count": 14,
   "metadata": {},
   "outputs": [
    {
     "data": {
      "text/plain": [
       "False"
      ]
     },
     "execution_count": 14,
     "metadata": {},
     "output_type": "execute_result"
    }
   ],
   "source": [
    "root.is_bst"
   ]
  },
  {
   "cell_type": "code",
   "execution_count": 15,
   "metadata": {},
   "outputs": [
    {
     "data": {
      "text/plain": [
       "True"
      ]
     },
     "execution_count": 15,
     "metadata": {},
     "output_type": "execute_result"
    }
   ],
   "source": [
    "root.is_complete"
   ]
  },
  {
   "cell_type": "code",
   "execution_count": 16,
   "metadata": {},
   "outputs": [
    {
     "data": {
      "text/plain": [
       "False"
      ]
     },
     "execution_count": 16,
     "metadata": {},
     "output_type": "execute_result"
    }
   ],
   "source": [
    "root.is_max_heap"
   ]
  },
  {
   "cell_type": "code",
   "execution_count": 17,
   "metadata": {},
   "outputs": [
    {
     "data": {
      "text/plain": [
       "True"
      ]
     },
     "execution_count": 17,
     "metadata": {},
     "output_type": "execute_result"
    }
   ],
   "source": [
    "root.is_min_heap"
   ]
  },
  {
   "cell_type": "code",
   "execution_count": 18,
   "metadata": {},
   "outputs": [
    {
     "data": {
      "text/plain": [
       "True"
      ]
     },
     "execution_count": 18,
     "metadata": {},
     "output_type": "execute_result"
    }
   ],
   "source": [
    "root.is_perfect"
   ]
  },
  {
   "cell_type": "code",
   "execution_count": 19,
   "metadata": {},
   "outputs": [
    {
     "data": {
      "text/plain": [
       "True"
      ]
     },
     "execution_count": 19,
     "metadata": {},
     "output_type": "execute_result"
    }
   ],
   "source": [
    "root.is_strict"
   ]
  },
  {
   "cell_type": "code",
   "execution_count": 20,
   "metadata": {},
   "outputs": [
    {
     "data": {
      "text/plain": [
       "4"
      ]
     },
     "execution_count": 20,
     "metadata": {},
     "output_type": "execute_result"
    }
   ],
   "source": [
    "root.leaf_count"
   ]
  },
  {
   "cell_type": "code",
   "execution_count": 21,
   "metadata": {},
   "outputs": [
    {
     "data": {
      "text/plain": [
       "2"
      ]
     },
     "execution_count": 21,
     "metadata": {},
     "output_type": "execute_result"
    }
   ],
   "source": [
    "root.max_leaf_depth"
   ]
  },
  {
   "cell_type": "code",
   "execution_count": 22,
   "metadata": {},
   "outputs": [
    {
     "data": {
      "text/plain": [
       "7"
      ]
     },
     "execution_count": 22,
     "metadata": {},
     "output_type": "execute_result"
    }
   ],
   "source": [
    "root.max_node_value"
   ]
  },
  {
   "cell_type": "code",
   "execution_count": 23,
   "metadata": {},
   "outputs": [
    {
     "data": {
      "text/plain": [
       "2"
      ]
     },
     "execution_count": 23,
     "metadata": {},
     "output_type": "execute_result"
    }
   ],
   "source": [
    "root.min_leaf_depth"
   ]
  },
  {
   "cell_type": "code",
   "execution_count": 24,
   "metadata": {},
   "outputs": [
    {
     "data": {
      "text/plain": [
       "1"
      ]
     },
     "execution_count": 24,
     "metadata": {},
     "output_type": "execute_result"
    }
   ],
   "source": [
    "root.min_node_value"
   ]
  },
  {
   "cell_type": "code",
   "execution_count": 25,
   "metadata": {},
   "outputs": [
    {
     "data": {
      "text/plain": [
       "7"
      ]
     },
     "execution_count": 25,
     "metadata": {},
     "output_type": "execute_result"
    }
   ],
   "source": [
    "root.size"
   ]
  },
  {
   "cell_type": "code",
   "execution_count": 26,
   "metadata": {},
   "outputs": [
    {
     "data": {
      "text/plain": [
       "{'height': 2,\n",
       " 'size': 7,\n",
       " 'is_max_heap': False,\n",
       " 'is_min_heap': True,\n",
       " 'is_perfect': True,\n",
       " 'is_strict': True,\n",
       " 'is_complete': True,\n",
       " 'leaf_count': 4,\n",
       " 'min_node_value': 1,\n",
       " 'max_node_value': 7,\n",
       " 'min_leaf_depth': 2,\n",
       " 'max_leaf_depth': 2,\n",
       " 'is_bst': False,\n",
       " 'is_balanced': True,\n",
       " 'is_symmetric': False}"
      ]
     },
     "execution_count": 26,
     "metadata": {},
     "output_type": "execute_result"
    }
   ],
   "source": [
    "root.properties"
   ]
  },
  {
   "cell_type": "code",
   "execution_count": 27,
   "metadata": {},
   "outputs": [
    {
     "name": "stdout",
     "output_type": "stream",
     "text": [
      "\n",
      "    __1__\n",
      "   /     \\\n",
      "  2       3__\n",
      " / \\     /   \\\n",
      "5   4   6     7\n",
      "             / \\\n",
      "            8   9\n",
      "\n"
     ]
    }
   ],
   "source": [
    "root.right.right.left=Node(8)\n",
    "root.right.right.right=Node(9)\n",
    "print(root)"
   ]
  },
  {
   "cell_type": "code",
   "execution_count": 28,
   "metadata": {},
   "outputs": [
    {
     "data": {
      "text/plain": [
       "{'height': 3,\n",
       " 'size': 9,\n",
       " 'is_max_heap': False,\n",
       " 'is_min_heap': False,\n",
       " 'is_perfect': False,\n",
       " 'is_strict': True,\n",
       " 'is_complete': False,\n",
       " 'leaf_count': 5,\n",
       " 'min_node_value': 1,\n",
       " 'max_node_value': 9,\n",
       " 'min_leaf_depth': 2,\n",
       " 'max_leaf_depth': 3,\n",
       " 'is_bst': False,\n",
       " 'is_balanced': True,\n",
       " 'is_symmetric': False}"
      ]
     },
     "execution_count": 28,
     "metadata": {},
     "output_type": "execute_result"
    }
   ],
   "source": [
    "root.properties"
   ]
  },
  {
   "cell_type": "code",
   "execution_count": 29,
   "metadata": {},
   "outputs": [
    {
     "data": {
      "text/plain": [
       "[Node(5), Node(4), Node(6), Node(8), Node(9)]"
      ]
     },
     "execution_count": 29,
     "metadata": {},
     "output_type": "execute_result"
    }
   ],
   "source": [
    "root.leaves"
   ]
  },
  {
   "cell_type": "code",
   "execution_count": 30,
   "metadata": {},
   "outputs": [
    {
     "data": {
      "text/plain": [
       "[[Node(1)],\n",
       " [Node(2), Node(3)],\n",
       " [Node(5), Node(4), Node(6), Node(7)],\n",
       " [Node(8), Node(9)]]"
      ]
     },
     "execution_count": 30,
     "metadata": {},
     "output_type": "execute_result"
    }
   ],
   "source": [
    "root.levels"
   ]
  },
  {
   "cell_type": "code",
   "execution_count": 31,
   "metadata": {},
   "outputs": [],
   "source": [
    "root2 = Node(1)                  # index: 0, value: 1\n",
    "root2.left = Node(2)             # index: 1, value: 2\n",
    "root2.right = Node(3)            # index: 2, value: 3\n",
    "root2.left.right = Node(4)       # index: 4, value: 4\n",
    "root2.left.right.left = Node(5)  # index: 9, value: 5"
   ]
  },
  {
   "cell_type": "code",
   "execution_count": 32,
   "metadata": {},
   "outputs": [
    {
     "name": "stdout",
     "output_type": "stream",
     "text": [
      "\n",
      "  ____1\n",
      " /     \\\n",
      "2__     3\n",
      "   \\\n",
      "    4\n",
      "   /\n",
      "  5\n",
      "\n"
     ]
    }
   ],
   "source": [
    "print(root2)"
   ]
  },
  {
   "cell_type": "code",
   "execution_count": 33,
   "metadata": {},
   "outputs": [
    {
     "name": "stdout",
     "output_type": "stream",
     "text": [
      "\n",
      "   _________0-1_\n",
      "  /             \\\n",
      "1-2_____        2-3\n",
      "        \\\n",
      "       _4-4\n",
      "      /\n",
      "    9-5\n",
      "\n"
     ]
    }
   ],
   "source": [
    "root2.pprint(index=True)"
   ]
  },
  {
   "cell_type": "code",
   "execution_count": 35,
   "metadata": {},
   "outputs": [
    {
     "data": {
      "text/plain": [
       "Node(5)"
      ]
     },
     "execution_count": 35,
     "metadata": {},
     "output_type": "execute_result"
    }
   ],
   "source": [
    "root2[9]"
   ]
  },
  {
   "cell_type": "code",
   "execution_count": 38,
   "metadata": {},
   "outputs": [
    {
     "name": "stdout",
     "output_type": "stream",
     "text": [
      "\n",
      "  ______1\n",
      " /       \\\n",
      "2__       3\n",
      "   \\\n",
      "    6\n",
      "   / \\\n",
      "  7   8\n",
      "\n"
     ]
    }
   ],
   "source": [
    "root2[4] = Node(6, left=Node(7), right=Node(8))\n",
    "print(root2)"
   ]
  },
  {
   "cell_type": "code",
   "execution_count": 39,
   "metadata": {},
   "outputs": [
    {
     "data": {
      "text/plain": [
       "<bound method Node.pprint of Node(1)>"
      ]
     },
     "execution_count": 39,
     "metadata": {},
     "output_type": "execute_result"
    }
   ],
   "source": [
    "root2.pprint"
   ]
  },
  {
   "cell_type": "code",
   "execution_count": 40,
   "metadata": {},
   "outputs": [
    {
     "name": "stdout",
     "output_type": "stream",
     "text": [
      "\n",
      "   ______________0-1_\n",
      "  /                  \\\n",
      "1-2_____             2-3\n",
      "        \\\n",
      "       _4-6_\n",
      "      /     \\\n",
      "    9-7     10-8\n",
      "\n"
     ]
    }
   ],
   "source": [
    "root2.pprint(index=True)"
   ]
  },
  {
   "cell_type": "code",
   "execution_count": 41,
   "metadata": {},
   "outputs": [],
   "source": [
    "del root2[2]"
   ]
  },
  {
   "cell_type": "code",
   "execution_count": 42,
   "metadata": {},
   "outputs": [
    {
     "name": "stdout",
     "output_type": "stream",
     "text": [
      "\n",
      "   ______________0-1\n",
      "  /\n",
      "1-2_____\n",
      "        \\\n",
      "       _4-6_\n",
      "      /     \\\n",
      "    9-7     10-8\n",
      "\n"
     ]
    }
   ],
   "source": [
    "root2.pprint(index=True)"
   ]
  },
  {
   "cell_type": "code",
   "execution_count": 43,
   "metadata": {},
   "outputs": [],
   "source": [
    "del root2[4]"
   ]
  },
  {
   "cell_type": "code",
   "execution_count": 44,
   "metadata": {},
   "outputs": [
    {
     "name": "stdout",
     "output_type": "stream",
     "text": [
      "\n",
      "   _0-1\n",
      "  /\n",
      "1-2\n",
      "\n"
     ]
    }
   ],
   "source": [
    "root2.pprint(index=True)"
   ]
  },
  {
   "cell_type": "code",
   "execution_count": 45,
   "metadata": {},
   "outputs": [
    {
     "name": "stdout",
     "output_type": "stream",
     "text": [
      "\n",
      "  1\n",
      " /\n",
      "2\n",
      "\n"
     ]
    }
   ],
   "source": [
    "print(root2)"
   ]
  },
  {
   "cell_type": "code",
   "execution_count": 46,
   "metadata": {},
   "outputs": [
    {
     "data": {
      "text/plain": [
       "{'height': 1,\n",
       " 'size': 2,\n",
       " 'is_max_heap': False,\n",
       " 'is_min_heap': True,\n",
       " 'is_perfect': False,\n",
       " 'is_strict': False,\n",
       " 'is_complete': True,\n",
       " 'leaf_count': 1,\n",
       " 'min_node_value': 1,\n",
       " 'max_node_value': 2,\n",
       " 'min_leaf_depth': 1,\n",
       " 'max_leaf_depth': 1,\n",
       " 'is_bst': False,\n",
       " 'is_balanced': True,\n",
       " 'is_symmetric': False}"
      ]
     },
     "execution_count": 46,
     "metadata": {},
     "output_type": "execute_result"
    }
   ],
   "source": [
    "root2.properties"
   ]
  },
  {
   "cell_type": "code",
   "execution_count": 47,
   "metadata": {},
   "outputs": [
    {
     "name": "stdout",
     "output_type": "stream",
     "text": [
      "\n",
      "    __1\n",
      "   /\n",
      "  2\n",
      " / \\\n",
      "4   5\n",
      "\n"
     ]
    }
   ],
   "source": [
    "root2[1] = Node(2, left=Node(4), right=Node(5))\n",
    "print(root2)"
   ]
  },
  {
   "cell_type": "code",
   "execution_count": 50,
   "metadata": {},
   "outputs": [
    {
     "name": "stdout",
     "output_type": "stream",
     "text": [
      "\n",
      "    __1\n",
      "   /   \\\n",
      "  2     3\n",
      " / \\\n",
      "4   5\n",
      "\n"
     ]
    }
   ],
   "source": [
    "root2.right=Node(3)\n",
    "print(root2)"
   ]
  },
  {
   "cell_type": "code",
   "execution_count": 51,
   "metadata": {},
   "outputs": [
    {
     "name": "stdout",
     "output_type": "stream",
     "text": [
      "\n",
      "    1\n",
      "   / \\\n",
      "  3   3\n",
      " /\n",
      "6\n",
      "\n"
     ]
    }
   ],
   "source": [
    "root2[1] = Node(3,left=Node(6))\n",
    "print(root2)"
   ]
  },
  {
   "cell_type": "code",
   "execution_count": 52,
   "metadata": {},
   "outputs": [],
   "source": [
    "root3 = tree(height=3, is_perfect=False)"
   ]
  },
  {
   "cell_type": "code",
   "execution_count": 53,
   "metadata": {},
   "outputs": [
    {
     "name": "stdout",
     "output_type": "stream",
     "text": [
      "\n",
      "    __3_______\n",
      "   /          \\\n",
      "  0         ___5\n",
      " / \\       /    \\\n",
      "8   7     11     1\n",
      "         /  \\     \\\n",
      "        4    6     10\n",
      "\n"
     ]
    }
   ],
   "source": [
    "print(root3)"
   ]
  },
  {
   "cell_type": "code",
   "execution_count": 54,
   "metadata": {},
   "outputs": [
    {
     "data": {
      "text/plain": [
       "{'height': 3,\n",
       " 'size': 10,\n",
       " 'is_max_heap': False,\n",
       " 'is_min_heap': False,\n",
       " 'is_perfect': False,\n",
       " 'is_strict': False,\n",
       " 'is_complete': False,\n",
       " 'leaf_count': 5,\n",
       " 'min_node_value': 0,\n",
       " 'max_node_value': 11,\n",
       " 'min_leaf_depth': 2,\n",
       " 'max_leaf_depth': 3,\n",
       " 'is_bst': False,\n",
       " 'is_balanced': True,\n",
       " 'is_symmetric': False}"
      ]
     },
     "execution_count": 54,
     "metadata": {},
     "output_type": "execute_result"
    }
   ],
   "source": [
    "root3.properties"
   ]
  },
  {
   "cell_type": "code",
   "execution_count": 55,
   "metadata": {},
   "outputs": [
    {
     "name": "stdout",
     "output_type": "stream",
     "text": [
      "11\n"
     ]
    }
   ],
   "source": [
    "print(root3.right.left.val)"
   ]
  },
  {
   "cell_type": "code",
   "execution_count": 56,
   "metadata": {},
   "outputs": [],
   "source": [
    "from binarytree import build"
   ]
  },
  {
   "cell_type": "code",
   "execution_count": 58,
   "metadata": {},
   "outputs": [
    {
     "name": "stdout",
     "output_type": "stream",
     "text": [
      "\n",
      "        ________7_____\n",
      "       /              \\\n",
      "    __3___             2___\n",
      "   /      \\           /    \\\n",
      "  6       _9        _2     _1\n",
      " / \\     /  \\      /      /  \\\n",
      "5   8   11   34   77     33   99\n",
      "\n"
     ]
    }
   ],
   "source": [
    "values = [7, 3, 2, 6, 9, 2, 1, 5, 8,11,34,77,None,33,99]\n",
    "root4 = build(values)\n",
    "print(root4)"
   ]
  },
  {
   "cell_type": "code",
   "execution_count": 59,
   "metadata": {},
   "outputs": [
    {
     "data": {
      "text/plain": [
       "{'height': 3,\n",
       " 'size': 14,\n",
       " 'is_max_heap': False,\n",
       " 'is_min_heap': False,\n",
       " 'is_perfect': False,\n",
       " 'is_strict': False,\n",
       " 'is_complete': False,\n",
       " 'leaf_count': 7,\n",
       " 'min_node_value': 1,\n",
       " 'max_node_value': 99,\n",
       " 'min_leaf_depth': 3,\n",
       " 'max_leaf_depth': 3,\n",
       " 'is_bst': False,\n",
       " 'is_balanced': True,\n",
       " 'is_symmetric': False}"
      ]
     },
     "execution_count": 59,
     "metadata": {},
     "output_type": "execute_result"
    }
   ],
   "source": [
    "root4.properties"
   ]
  },
  {
   "cell_type": "code",
   "execution_count": 60,
   "metadata": {},
   "outputs": [
    {
     "data": {
      "text/plain": [
       "[3, 0, 5, 8, 7, 11, 1, None, None, None, None, 4, 6, None, 10]"
      ]
     },
     "execution_count": 60,
     "metadata": {},
     "output_type": "execute_result"
    }
   ],
   "source": [
    "root3.values"
   ]
  },
  {
   "cell_type": "code",
   "execution_count": 61,
   "metadata": {},
   "outputs": [
    {
     "data": {
      "text/plain": [
       "[7, 3, 2, 6, 9, 2, 1, 5, 8, 11, 34, 77, None, 33, 99]"
      ]
     },
     "execution_count": 61,
     "metadata": {},
     "output_type": "execute_result"
    }
   ],
   "source": [
    "root4.values"
   ]
  },
  {
   "cell_type": "code",
   "execution_count": null,
   "metadata": {},
   "outputs": [],
   "source": []
  }
 ],
 "metadata": {
  "kernelspec": {
   "display_name": "Python 3",
   "language": "python",
   "name": "python3"
  },
  "language_info": {
   "codemirror_mode": {
    "name": "ipython",
    "version": 3
   },
   "file_extension": ".py",
   "mimetype": "text/x-python",
   "name": "python",
   "nbconvert_exporter": "python",
   "pygments_lexer": "ipython3",
   "version": "3.8.5"
  }
 },
 "nbformat": 4,
 "nbformat_minor": 4
}
