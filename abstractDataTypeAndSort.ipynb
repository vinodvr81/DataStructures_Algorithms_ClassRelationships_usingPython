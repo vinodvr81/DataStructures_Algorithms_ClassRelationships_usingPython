{
 "cells": [
  {
   "cell_type": "markdown",
   "metadata": {},
   "source": [
    "# ADT - Abstract Data Types"
   ]
  },
  {
   "cell_type": "markdown",
   "metadata": {},
   "source": [
    "ADT operations can be grouped into four\n",
    "categories:\n",
    "\n",
    "● constructors\n",
    "\n",
    "● accessors\n",
    "\n",
    "● mutators\n",
    "\n",
    "● iterators"
   ]
  },
  {
   "cell_type": "code",
   "execution_count": null,
   "metadata": {},
   "outputs": [],
   "source": []
  },
  {
   "cell_type": "markdown",
   "metadata": {},
   "source": [
    "Collection\n",
    "\n",
    "A group of values with no implied organization or relationship.\n",
    "\n",
    "\n"
   ]
  },
  {
   "cell_type": "code",
   "execution_count": null,
   "metadata": {},
   "outputs": [],
   "source": []
  },
  {
   "cell_type": "markdown",
   "metadata": {},
   "source": [
    "Container\n",
    "\n",
    "An ADT that stores a collection and organization and operations can vary.\n"
   ]
  },
  {
   "cell_type": "markdown",
   "metadata": {},
   "source": [
    "Element\n",
    "\n",
    "An individual item or value stored in a container."
   ]
  },
  {
   "cell_type": "code",
   "execution_count": null,
   "metadata": {},
   "outputs": [],
   "source": []
  },
  {
   "cell_type": "markdown",
   "metadata": {},
   "source": [
    "# Selection Sort"
   ]
  },
  {
   "cell_type": "markdown",
   "metadata": {},
   "source": [
    "\n",
    "The selection sort algorithm sorts an array by repeatedly finding the minimum element (considering ascending order) from unsorted part and putting it at the beginning. The algorithm maintains two subarrays in a given array.\n",
    "\n",
    "1) The subarray which is already sorted.\n",
    "\n",
    "2) Remaining subarray which is unsorted.\n",
    "\n",
    "In every iteration of selection sort, the minimum element (considering ascending order) from the unsorted subarray is picked and moved to the sorted subarray."
   ]
  },
  {
   "cell_type": "markdown",
   "metadata": {},
   "source": [
    "array = 64 25 12 22 11\n",
    "\n",
    "// Find the minimum element in arr[0...4]\n",
    "// and place it at beginning\n",
    "11 25 12 22 64\n",
    "\n",
    "// Find the minimum element in arr[1...4]\n",
    "// and place it at beginning of arr[1...4]\n",
    "11 12 25 22 64\n",
    "\n",
    "// Find the minimum element in arr[2...4]\n",
    "// and place it at beginning of arr[2...4]\n",
    "11 12 22 25 64\n",
    "\n",
    "// Find the minimum element in arr[3...4]\n",
    "// and place it at beginning of arr[3...4]\n",
    "11 12 22 25 64 "
   ]
  },
  {
   "cell_type": "code",
   "execution_count": 22,
   "metadata": {},
   "outputs": [
    {
     "name": "stdout",
     "output_type": "stream",
     "text": [
      "Which outer loop 0\n",
      "[11, 12, 22, 25, 34, 64, 90]\n",
      "Which outer loop 1\n",
      "[11, 12, 22, 25, 34, 64, 90]\n",
      "Which outer loop 2\n",
      "[11, 12, 22, 25, 34, 64, 90]\n",
      "Which outer loop 3\n",
      "[11, 12, 22, 25, 34, 64, 90]\n",
      "Which outer loop 4\n",
      "[11, 12, 22, 25, 34, 64, 90]\n",
      "Sorted array\n",
      "11\n",
      "12\n",
      "22\n",
      "25\n",
      "64\n"
     ]
    }
   ],
   "source": [
    "A = [64, 25, 12, 22, 11] \n",
    "  \n",
    "\n",
    "# Traverse through all array elements \n",
    "\n",
    "for i in range(len(A)): \n",
    "      \n",
    "    # Find the minimum element in remaining unsorted array \n",
    "    print(\"Which outer loop {0}\".format(i))\n",
    "    min_idx = i \n",
    "    for j in range(i+1, len(A)): \n",
    "        if A[min_idx] > A[j]: \n",
    "            min_idx = j \n",
    "              \n",
    "    # Swap the found minimum element with the first element         \n",
    "    \n",
    "    A[i], A[min_idx] = A[min_idx], A[i] \n",
    "    print(arr)\n",
    "\n",
    "print (\"Sorted array\") \n",
    "\n",
    "for i,v in enumerate(A): \n",
    "    print(\"%d\" %v), "
   ]
  },
  {
   "cell_type": "markdown",
   "metadata": {},
   "source": [
    "The good thing about selection sort is it never makes more than O(n) swaps and can be useful when memory write is a costly operation."
   ]
  },
  {
   "cell_type": "markdown",
   "metadata": {},
   "source": [
    "# Bubble Sort\n"
   ]
  },
  {
   "cell_type": "markdown",
   "metadata": {},
   "source": [
    "\n",
    "Bubble Sort is the simplest sorting algorithm that works by repeatedly swapping the adjacent elements if they are in wrong order."
   ]
  },
  {
   "cell_type": "code",
   "execution_count": 24,
   "metadata": {},
   "outputs": [
    {
     "name": "stdout",
     "output_type": "stream",
     "text": [
      "Which outer loop 0\n",
      "[34, 64, 25, 12, 22, 11, 90]\n",
      "[34, 25, 64, 12, 22, 11, 90]\n",
      "[34, 25, 12, 64, 22, 11, 90]\n",
      "[34, 25, 12, 22, 64, 11, 90]\n",
      "[34, 25, 12, 22, 11, 64, 90]\n",
      "[34, 25, 12, 22, 11, 64, 90]\n",
      "Which outer loop 1\n",
      "[25, 34, 12, 22, 11, 64, 90]\n",
      "[25, 12, 34, 22, 11, 64, 90]\n",
      "[25, 12, 22, 34, 11, 64, 90]\n",
      "[25, 12, 22, 11, 34, 64, 90]\n",
      "[25, 12, 22, 11, 34, 64, 90]\n",
      "Which outer loop 2\n",
      "[12, 25, 22, 11, 34, 64, 90]\n",
      "[12, 22, 25, 11, 34, 64, 90]\n",
      "[12, 22, 11, 25, 34, 64, 90]\n",
      "[12, 22, 11, 25, 34, 64, 90]\n",
      "Which outer loop 3\n",
      "[12, 22, 11, 25, 34, 64, 90]\n",
      "[12, 11, 22, 25, 34, 64, 90]\n",
      "[12, 11, 22, 25, 34, 64, 90]\n",
      "Which outer loop 4\n",
      "[11, 12, 22, 25, 34, 64, 90]\n",
      "[11, 12, 22, 25, 34, 64, 90]\n",
      "Which outer loop 5\n",
      "[11, 12, 22, 25, 34, 64, 90]\n",
      "Which outer loop 6\n",
      "Sorted array is:\n",
      "11\n",
      "12\n",
      "22\n",
      "25\n",
      "34\n",
      "64\n",
      "90\n"
     ]
    }
   ],
   "source": [
    "def bubbleSort(arr): \n",
    "    n = len(arr) \n",
    "  \n",
    "    # Traverse through all array elements \n",
    "    \n",
    "    for i in range(n): \n",
    "  \n",
    "        # Last i elements are already in place \n",
    "        print(\"Which outer loop {0}\".format(i))\n",
    "        for j in range(0, n-i-1): \n",
    "  \n",
    "            # traverse the array from 0 to n-i-1 \n",
    "            # Swap if the element found is greater \n",
    "            # than the next element \n",
    "            \n",
    "            if arr[j] > arr[j+1] : \n",
    "                arr[j], arr[j+1] = arr[j+1], arr[j] \n",
    "            print(arr)\n",
    "  \n",
    "arr = [64, 34, 25, 12, 22, 11, 90] \n",
    "  \n",
    "bubbleSort(arr) \n",
    "  \n",
    "print (\"Sorted array is:\") \n",
    "for i in range(len(arr)): \n",
    "    print (\"%d\" %arr[i]), "
   ]
  },
  {
   "cell_type": "markdown",
   "metadata": {},
   "source": [
    "Optimized Implementation:\n",
    "The above function always runs O(n^2) time even if the array is sorted. It can be optimized by stopping the algorithm if inner loop didn’t cause any swap."
   ]
  },
  {
   "cell_type": "code",
   "execution_count": null,
   "metadata": {},
   "outputs": [],
   "source": []
  },
  {
   "cell_type": "code",
   "execution_count": 26,
   "metadata": {},
   "outputs": [
    {
     "name": "stdout",
     "output_type": "stream",
     "text": [
      "Which outer loop 0\n",
      "[34, 64, 25, 12, 22, 11, 90]\n",
      "[34, 25, 64, 12, 22, 11, 90]\n",
      "[34, 25, 12, 64, 22, 11, 90]\n",
      "[34, 25, 12, 22, 64, 11, 90]\n",
      "[34, 25, 12, 22, 11, 64, 90]\n",
      "[34, 25, 12, 22, 11, 64, 90]\n",
      "Which outer loop 1\n",
      "[25, 34, 12, 22, 11, 64, 90]\n",
      "[25, 12, 34, 22, 11, 64, 90]\n",
      "[25, 12, 22, 34, 11, 64, 90]\n",
      "[25, 12, 22, 11, 34, 64, 90]\n",
      "[25, 12, 22, 11, 34, 64, 90]\n",
      "Which outer loop 2\n",
      "[12, 25, 22, 11, 34, 64, 90]\n",
      "[12, 22, 25, 11, 34, 64, 90]\n",
      "[12, 22, 11, 25, 34, 64, 90]\n",
      "[12, 22, 11, 25, 34, 64, 90]\n",
      "Which outer loop 3\n",
      "[12, 22, 11, 25, 34, 64, 90]\n",
      "[12, 11, 22, 25, 34, 64, 90]\n",
      "[12, 11, 22, 25, 34, 64, 90]\n",
      "Which outer loop 4\n",
      "[11, 12, 22, 25, 34, 64, 90]\n",
      "[11, 12, 22, 25, 34, 64, 90]\n",
      "Which outer loop 5\n",
      "[11, 12, 22, 25, 34, 64, 90]\n",
      "Sorted array :\n",
      "11 12 22 25 34 64 90 "
     ]
    }
   ],
   "source": [
    "def bubbleSort(arr): \n",
    "    n = len(arr) \n",
    "   \n",
    "    # Traverse through all array elements \n",
    "    for i in range(n): \n",
    "        swapped = False\n",
    "        print(\"Which outer loop {0}\".format(i))\n",
    "        # Last i elements are alreadyin place \n",
    "        for j in range(0, n-i-1): \n",
    "   \n",
    "            # traverse the array from 0 to \n",
    "            # n-i-1. Swap if the element  \n",
    "            # found is greater than the \n",
    "            # next element \n",
    "            if arr[j] > arr[j+1] : \n",
    "                arr[j], arr[j+1] = arr[j+1], arr[j] \n",
    "                swapped = True\n",
    "            print(arr)  \n",
    "        # IF no two elements were swapped by inner loop, then break \n",
    "        if swapped == False: \n",
    "            break\n",
    "           \n",
    "# Driver code to test above \n",
    "arr = [64, 34, 25, 12, 22, 11, 90] \n",
    "   \n",
    "bubbleSort(arr) \n",
    "print (\"Sorted array :\") \n",
    "for i in range(len(arr)): \n",
    "    print (\"%d\" %arr[i],end=\" \") "
   ]
  },
  {
   "cell_type": "code",
   "execution_count": null,
   "metadata": {},
   "outputs": [],
   "source": []
  }
 ],
 "metadata": {
  "kernelspec": {
   "display_name": "Python 3",
   "language": "python",
   "name": "python3"
  },
  "language_info": {
   "codemirror_mode": {
    "name": "ipython",
    "version": 3
   },
   "file_extension": ".py",
   "mimetype": "text/x-python",
   "name": "python",
   "nbconvert_exporter": "python",
   "pygments_lexer": "ipython3",
   "version": "3.8.5"
  }
 },
 "nbformat": 4,
 "nbformat_minor": 4
}
