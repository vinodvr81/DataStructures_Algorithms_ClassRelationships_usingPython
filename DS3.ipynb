{
 "cells": [
  {
   "cell_type": "markdown",
   "metadata": {},
   "source": [
    "# Python - Queue"
   ]
  },
  {
   "cell_type": "markdown",
   "metadata": {},
   "source": [
    "We are familiar with queue in our day to day life as we wait for a service. The queue data structure aslo means the same where the data elements are arranged in a queue. The uniqueness of queue lies in the way items are added and removed. The items are allowed at on end but removed form the other end. So it is a First-in-First out method. An queue can be implemented using python list where we can use the insert() and pop() methods to add and remove elements."
   ]
  },
  {
   "cell_type": "code",
   "execution_count": 4,
   "metadata": {},
   "outputs": [
    {
     "name": "stdout",
     "output_type": "stream",
     "text": [
      "Mon\n",
      "Tue\n"
     ]
    }
   ],
   "source": [
    "class Queue:\n",
    "\n",
    "    def __init__(self):\n",
    "        self.queue = list()\n",
    "\n",
    "    def addtoq(self,dataval):\n",
    "    # Insert method to add element\n",
    "        if dataval not in self.queue:\n",
    "            self.queue.insert(0,dataval)\n",
    "            return True\n",
    "        return False\n",
    "\n",
    "    def size(self):\n",
    "        return len(self.queue)\n",
    "    \n",
    "    def removefromq(self):\n",
    "        if len(self.queue)>0:\n",
    "            return self.queue.pop()\n",
    "        return (\"No elements in Queue!\")\n",
    "\n",
    "TheQueue = Queue()\n",
    "TheQueue.addtoq(\"Mon\")\n",
    "TheQueue.addtoq(\"Tue\")\n",
    "TheQueue.addtoq(\"Wed\")\n",
    "print(TheQueue.removefromq())\n",
    "print(TheQueue.removefromq())"
   ]
  },
  {
   "cell_type": "markdown",
   "metadata": {},
   "source": [
    "# Python - Dequeue"
   ]
  },
  {
   "cell_type": "markdown",
   "metadata": {},
   "source": [
    "A double-ended queue, or deque, supports adding and removing elements from either end. The more commonly used stacks and queues are degenerate forms of deques, where the inputs and outputs are restricted to a single end."
   ]
  },
  {
   "cell_type": "code",
   "execution_count": 5,
   "metadata": {},
   "outputs": [
    {
     "name": "stdout",
     "output_type": "stream",
     "text": [
      "deque(['Mon', 'Tue', 'Wed'])\n",
      "Appended at right - \n",
      "deque(['Mon', 'Tue', 'Wed', 'Thu'])\n"
     ]
    }
   ],
   "source": [
    "import collections\n",
    "\n",
    "DoubleEnded = collections.deque([\"Mon\",\"Tue\",\"Wed\"])\n",
    "\n",
    "print(DoubleEnded)\n",
    "DoubleEnded.append(\"Thu\")\n",
    "\n",
    "print (\"Appended at right - \")\n",
    "print (DoubleEnded)\n",
    "\n"
   ]
  },
  {
   "cell_type": "code",
   "execution_count": 6,
   "metadata": {},
   "outputs": [
    {
     "name": "stdout",
     "output_type": "stream",
     "text": [
      "Appended at right at left is - \n",
      "deque(['Sun', 'Mon', 'Tue', 'Wed', 'Thu'])\n"
     ]
    }
   ],
   "source": [
    "DoubleEnded.appendleft(\"Sun\")\n",
    "\n",
    "print (\"Appended at right at left is - \")\n",
    "print (DoubleEnded)\n",
    "\n"
   ]
  },
  {
   "cell_type": "code",
   "execution_count": 7,
   "metadata": {},
   "outputs": [
    {
     "name": "stdout",
     "output_type": "stream",
     "text": [
      "Deleting from right - \n",
      "deque(['Sun', 'Mon', 'Tue', 'Wed'])\n"
     ]
    }
   ],
   "source": [
    "DoubleEnded.pop()\n",
    "\n",
    "print (\"Deleting from right - \")\n",
    "print (DoubleEnded)\n",
    "\n"
   ]
  },
  {
   "cell_type": "code",
   "execution_count": 8,
   "metadata": {},
   "outputs": [
    {
     "name": "stdout",
     "output_type": "stream",
     "text": [
      "Deleting from left - \n",
      "deque(['Mon', 'Tue', 'Wed'])\n"
     ]
    }
   ],
   "source": [
    "DoubleEnded.popleft()\n",
    "\n",
    "print (\"Deleting from left - \")\n",
    "print (DoubleEnded)"
   ]
  },
  {
   "cell_type": "markdown",
   "metadata": {},
   "source": [
    "# Python - Advanced Linked list -- Doubly linked list"
   ]
  },
  {
   "cell_type": "markdown",
   "metadata": {},
   "source": [
    "We create a Doubly Linked list by using the Node class. Now we use the same approach as used in the Singly Linked List but the head and next pointers will be used for proper assignation to create two links in each of the nodes in addition to the data present in the node."
   ]
  },
  {
   "cell_type": "code",
   "execution_count": 31,
   "metadata": {},
   "outputs": [
    {
     "name": "stdout",
     "output_type": "stream",
     "text": [
      "62\n",
      "8\n",
      "12\n",
      "End-0\n",
      "\n",
      "\n",
      "62\n",
      "8\n",
      "1981\n",
      "12\n",
      "End-1\n",
      "\n",
      "\n",
      "'NoneType' object has no attribute 'next'\n",
      "End-2\n",
      "\n",
      "\n",
      "45\n",
      "End-3\n",
      "\n",
      "\n"
     ]
    }
   ],
   "source": [
    "class Node:\n",
    "    def __init__(self, data):\n",
    "        self.data = data\n",
    "        self.next = None\n",
    "        self.prev = None\n",
    "\n",
    "class doubly_linked_list:\n",
    "\n",
    "    def __init__(self):\n",
    "        self.head = None\n",
    "\n",
    "\n",
    "    def push(self, NewVal):\n",
    "        NewNode = Node(NewVal)\n",
    "        NewNode.next = self.head\n",
    "        if self.head is not None:\n",
    "            self.head.prev = NewNode\n",
    "        self.head = NewNode\n",
    "        \n",
    "    def insert(self, prev_node, NewVal):\n",
    "        if prev_node is None:\n",
    "            return\n",
    "        NewNode = Node(NewVal)\n",
    "        NewNode.next = prev_node.next\n",
    "        prev_node.next = NewNode\n",
    "        NewNode.prev = prev_node\n",
    "        if NewNode.next is not None:\n",
    "            NewNode.next.prev = NewNode\n",
    "            \n",
    "    def append(self, NewVal):\n",
    "        NewNode = Node(NewVal)\n",
    "        NewNode.next = None\n",
    "        if self.head is None:\n",
    "            NewNode.prev = None\n",
    "            self.head = NewNode\n",
    "            return\n",
    "        last = self.head\n",
    "        while (last.next is not None):\n",
    "            last = last.next\n",
    "        last.next = NewNode\n",
    "        NewNode.prev = last\n",
    "        return            \n",
    "\n",
    "\n",
    "    def listprint(self, node):\n",
    "        while (node is not None):\n",
    "            print(node.data)\n",
    "            last = node\n",
    "            node = node.next\n",
    "            \n",
    "\n",
    "dllist = doubly_linked_list()\n",
    "\n",
    "\n",
    "dllist.push(12)\n",
    "dllist.push(8)\n",
    "dllist.push(62)\n",
    "dllist.listprint(dllist.head)\n",
    "\n",
    "print(\"End-0\")\n",
    "print(\"\\n\")\n",
    "dllist.insert(dllist.head.next, 1981)\n",
    "dllist.listprint(dllist.head)\n",
    "print(\"End-1\")\n",
    "print(\"\\n\")\n",
    "\n",
    "dllist = doubly_linked_list()\n",
    "dllist.listprint(dllist.head)\n",
    "\n",
    "try:\n",
    "    dllist.insert(dllist.head.next, 13)\n",
    "except Exception as e:\n",
    "    print(e)\n",
    "    \n",
    "print(\"End-2\")\n",
    "print(\"\\n\")    \n",
    "\n",
    "dllist.append(45)\n",
    "\n",
    "dllist.listprint(dllist.head)\n",
    "    \n",
    "print(\"End-3\")\n",
    "print(\"\\n\") "
   ]
  },
  {
   "cell_type": "markdown",
   "metadata": {},
   "source": [
    "# Python Linked List"
   ]
  },
  {
   "cell_type": "code",
   "execution_count": 32,
   "metadata": {},
   "outputs": [
    {
     "name": "stdout",
     "output_type": "stream",
     "text": [
      "sllist()\n"
     ]
    }
   ],
   "source": [
    "from llist import sllist, sllistnode\n",
    "\n",
    "empty_lst = sllist()          # create an empty list\n",
    "print(empty_lst)\n",
    "\n"
   ]
  },
  {
   "cell_type": "code",
   "execution_count": 33,
   "metadata": {},
   "outputs": [
    {
     "name": "stdout",
     "output_type": "stream",
     "text": [
      "0\n",
      "0\n",
      "None\n",
      "None\n"
     ]
    }
   ],
   "source": [
    "print(len(empty_lst))         # display length of the list\n",
    "\n",
    "print(empty_lst.size)\n",
    "\n",
    "print(empty_lst.first)        # display the first node (nonexistent)\n",
    "\n",
    "print(empty_lst.last)         # display the last node (nonexistent)\n"
   ]
  },
  {
   "cell_type": "code",
   "execution_count": 34,
   "metadata": {},
   "outputs": [
    {
     "name": "stdout",
     "output_type": "stream",
     "text": [
      "sllist([1, 2, 3])\n"
     ]
    }
   ],
   "source": [
    "lst = sllist([1, 2, 3])       # create and initialize a list\n",
    "print(lst)                    # display elements in the list\n"
   ]
  },
  {
   "cell_type": "code",
   "execution_count": 35,
   "metadata": {},
   "outputs": [
    {
     "name": "stdout",
     "output_type": "stream",
     "text": [
      "3\n",
      "3\n"
     ]
    }
   ],
   "source": [
    "\n",
    "print(len(lst))               # display length of the list\n",
    "\n",
    "print(lst.size)\n",
    "\n"
   ]
  },
  {
   "cell_type": "code",
   "execution_count": 36,
   "metadata": {},
   "outputs": [
    {
     "name": "stdout",
     "output_type": "stream",
     "text": [
      "sllistnode(1)\n",
      "sllistnode(2)\n",
      "sllistnode(3)\n"
     ]
    }
   ],
   "source": [
    "\n",
    "print(lst.nodeat(0))          # access nodes by index\n",
    "\n",
    "print(lst.nodeat(1))\n",
    "\n",
    "print(lst.nodeat(2))\n"
   ]
  },
  {
   "cell_type": "code",
   "execution_count": 37,
   "metadata": {},
   "outputs": [
    {
     "name": "stdout",
     "output_type": "stream",
     "text": [
      "1\n",
      "2\n",
      "3\n"
     ]
    }
   ],
   "source": [
    "print(lst[0])                 # access elements by index\n",
    "print(lst[1])\n",
    "print(lst[2])"
   ]
  },
  {
   "cell_type": "code",
   "execution_count": 38,
   "metadata": {},
   "outputs": [
    {
     "name": "stdout",
     "output_type": "stream",
     "text": [
      "sllistnode(1)\n"
     ]
    }
   ],
   "source": [
    "node = lst.first              # get the first node (same as lst[0])\n",
    "print(node)\n"
   ]
  },
  {
   "cell_type": "code",
   "execution_count": 40,
   "metadata": {},
   "outputs": [
    {
     "data": {
      "text/plain": [
       "<sllistnode(3)>"
      ]
     },
     "execution_count": 40,
     "metadata": {},
     "output_type": "execute_result"
    }
   ],
   "source": [
    "lst.last"
   ]
  },
  {
   "cell_type": "code",
   "execution_count": 41,
   "metadata": {},
   "outputs": [
    {
     "data": {
      "text/plain": [
       "<sllistnode(2)>"
      ]
     },
     "execution_count": 41,
     "metadata": {},
     "output_type": "execute_result"
    }
   ],
   "source": [
    "lst.nodeat(1)"
   ]
  },
  {
   "cell_type": "code",
   "execution_count": 42,
   "metadata": {},
   "outputs": [
    {
     "name": "stdout",
     "output_type": "stream",
     "text": [
      "1\n",
      "1\n",
      "sllistnode(2)\n",
      "2\n"
     ]
    }
   ],
   "source": [
    "print(node.value)             # get value of node\n",
    "\n",
    "print(node())                 # get value of node\n",
    "\n",
    "print(node.next)              # get the next node\n",
    "\n",
    "print(node.next.value)        # get value of the next node\n",
    "\n"
   ]
  },
  {
   "cell_type": "code",
   "execution_count": 43,
   "metadata": {},
   "outputs": [
    {
     "name": "stdout",
     "output_type": "stream",
     "text": [
      "2\n",
      "4\n",
      "6\n"
     ]
    }
   ],
   "source": [
    "for value in lst:             # iterate over list elements\n",
    "    print(value * 2)\n"
   ]
  },
  {
   "cell_type": "code",
   "execution_count": 44,
   "metadata": {},
   "outputs": [
    {
     "name": "stdout",
     "output_type": "stream",
     "text": [
      "sllist([1, 2, 3, 4])\n"
     ]
    }
   ],
   "source": [
    "lst.appendright(4)            # append value to the right side of the list\n",
    "\n",
    "print(lst)\n"
   ]
  },
  {
   "cell_type": "code",
   "execution_count": 45,
   "metadata": {},
   "outputs": [
    {
     "name": "stdout",
     "output_type": "stream",
     "text": [
      "sllist([1, 2, 3, 4, 5])\n"
     ]
    }
   ],
   "source": [
    "\n",
    "new_node = sllistnode(5)\n",
    "lst.appendright(new_node)     # append value from a node\n",
    "\n",
    "print(lst)\n",
    "\n"
   ]
  },
  {
   "cell_type": "code",
   "execution_count": 46,
   "metadata": {},
   "outputs": [
    {
     "name": "stdout",
     "output_type": "stream",
     "text": [
      "sllist([0, 1, 2, 3, 4, 5])\n"
     ]
    }
   ],
   "source": [
    "lst.appendleft(0)             # append value to the left side of the list\n",
    "\n",
    "print(lst)\n"
   ]
  },
  {
   "cell_type": "code",
   "execution_count": 47,
   "metadata": {},
   "outputs": [
    {
     "name": "stdout",
     "output_type": "stream",
     "text": [
      "sllist([0, 1, 2, 3, 4, 5, 6, 7, 8])\n",
      "sllist([-3, -2, -1, 0, 1, 2, 3, 4, 5, 6, 7, 8])\n"
     ]
    }
   ],
   "source": [
    "\n",
    "lst.extendright([6, 7, 8])    # right-extend list with elements from iterable\n",
    "print(lst)\n",
    "\n",
    "lst.extendleft([-1, -2, -3])  # left-extend list with elements from iterable\n",
    "print(lst)\n",
    "\n"
   ]
  },
  {
   "cell_type": "code",
   "execution_count": 48,
   "metadata": {},
   "outputs": [
    {
     "name": "stdout",
     "output_type": "stream",
     "text": [
      "sllist([0, 1, 1.5, 2, 3, 4, 5])\n"
     ]
    }
   ],
   "source": [
    "\n",
    "lst = sllist([0, 1, 2, 3, 4, 5])\n",
    "node = lst.nodeat(2)\n",
    "lst.insertbefore(1.5, node)  # insert 1.5 before node\n",
    "\n",
    "print(lst)\n"
   ]
  },
  {
   "cell_type": "code",
   "execution_count": 49,
   "metadata": {},
   "outputs": [
    {
     "name": "stdout",
     "output_type": "stream",
     "text": [
      "sllist([0, 1, 1.5, 2, 2.5, 3, 4, 5])\n"
     ]
    }
   ],
   "source": [
    "\n",
    "lst.insertafter(2.5, node)   # insert 2.5 after node\n",
    "\n",
    "print(lst)\n"
   ]
  },
  {
   "cell_type": "code",
   "execution_count": 50,
   "metadata": {},
   "outputs": [
    {
     "name": "stdout",
     "output_type": "stream",
     "text": [
      "sllist([1, 1.5, 2, 2.5, 3, 4, 5])\n"
     ]
    }
   ],
   "source": [
    "\n",
    "lst.popleft()                 # remove leftmost node from the list\n",
    "\n",
    "print(lst)\n"
   ]
  },
  {
   "cell_type": "code",
   "execution_count": 51,
   "metadata": {},
   "outputs": [
    {
     "name": "stdout",
     "output_type": "stream",
     "text": [
      "sllist([1, 1.5, 2, 2.5, 3, 4])\n"
     ]
    }
   ],
   "source": [
    "\n",
    "lst.popright()                # remove rightmost node from the list\n",
    "\n",
    "print(lst)\n"
   ]
  },
  {
   "cell_type": "code",
   "execution_count": 52,
   "metadata": {},
   "outputs": [
    {
     "name": "stdout",
     "output_type": "stream",
     "text": [
      "sllist([1, 2, 2.5, 3, 4])\n"
     ]
    }
   ],
   "source": [
    "\n",
    "node = lst.nodeat(1)\n",
    "lst.remove(node)              # remove 2nd node from the list\n",
    "\n",
    "print(lst)\n"
   ]
  },
  {
   "cell_type": "code",
   "execution_count": 53,
   "metadata": {},
   "outputs": [
    {
     "ename": "ValueError",
     "evalue": "sllistnode does not belong to a list",
     "output_type": "error",
     "traceback": [
      "\u001b[1;31m---------------------------------------------------------------------------\u001b[0m",
      "\u001b[1;31mValueError\u001b[0m                                Traceback (most recent call last)",
      "\u001b[1;32m<ipython-input-53-e4075c8959a3>\u001b[0m in \u001b[0;36m<module>\u001b[1;34m\u001b[0m\n\u001b[0;32m      1\u001b[0m \u001b[0mforeign_node\u001b[0m \u001b[1;33m=\u001b[0m \u001b[0msllistnode\u001b[0m\u001b[1;33m(\u001b[0m\u001b[1;33m)\u001b[0m   \u001b[1;31m# create an unassigned node\u001b[0m\u001b[1;33m\u001b[0m\u001b[1;33m\u001b[0m\u001b[0m\n\u001b[1;32m----> 2\u001b[1;33m \u001b[0mlst\u001b[0m\u001b[1;33m.\u001b[0m\u001b[0mremove\u001b[0m\u001b[1;33m(\u001b[0m\u001b[0mforeign_node\u001b[0m\u001b[1;33m)\u001b[0m      \u001b[1;31m# try to remove node not present in the list\u001b[0m\u001b[1;33m\u001b[0m\u001b[1;33m\u001b[0m\u001b[0m\n\u001b[0m\u001b[0;32m      3\u001b[0m \u001b[0mlst\u001b[0m\u001b[1;33m.\u001b[0m\u001b[0mclear\u001b[0m\u001b[1;33m(\u001b[0m\u001b[1;33m)\u001b[0m\u001b[1;33m\u001b[0m\u001b[1;33m\u001b[0m\u001b[0m\n\u001b[0;32m      4\u001b[0m \u001b[0mprint\u001b[0m\u001b[1;33m(\u001b[0m\u001b[0mlst\u001b[0m\u001b[1;33m)\u001b[0m\u001b[1;33m\u001b[0m\u001b[1;33m\u001b[0m\u001b[0m\n",
      "\u001b[1;31mValueError\u001b[0m: sllistnode does not belong to a list"
     ]
    }
   ],
   "source": [
    "\n",
    "foreign_node = sllistnode()   # create an unassigned node\n",
    "lst.remove(foreign_node)      # try to remove node not present in the list\n",
    "lst.clear()\n",
    "print(lst)\n"
   ]
  },
  {
   "cell_type": "code",
   "execution_count": 54,
   "metadata": {},
   "outputs": [
    {
     "name": "stdout",
     "output_type": "stream",
     "text": [
      "sllist([4, 5, 1, 2, 3])\n"
     ]
    }
   ],
   "source": [
    "\n",
    "\n",
    "lst = sllist([1, 2, 3, 4, 5])\n",
    "lst.rotate(2)\n",
    "print(lst)\n"
   ]
  },
  {
   "cell_type": "code",
   "execution_count": 55,
   "metadata": {},
   "outputs": [
    {
     "name": "stdout",
     "output_type": "stream",
     "text": [
      "sllist([3, 4, 5, 1, 2])\n"
     ]
    }
   ],
   "source": [
    "\n",
    "lst = sllist([1, 2, 3, 4, 5])\n",
    "lst.rotate(-2)\n",
    "print(lst)\n",
    "\n"
   ]
  },
  {
   "cell_type": "code",
   "execution_count": 56,
   "metadata": {},
   "outputs": [
    {
     "data": {
      "text/plain": [
       "True"
      ]
     },
     "execution_count": 56,
     "metadata": {},
     "output_type": "execute_result"
    }
   ],
   "source": [
    "\n",
    "sllist() == sllist([])        # list comparison (lexicographical order)\n"
   ]
  },
  {
   "cell_type": "code",
   "execution_count": 57,
   "metadata": {},
   "outputs": [
    {
     "data": {
      "text/plain": [
       "False"
      ]
     },
     "execution_count": 57,
     "metadata": {},
     "output_type": "execute_result"
    }
   ],
   "source": [
    "\n",
    "sllist() != sllist([])\n"
   ]
  },
  {
   "cell_type": "code",
   "execution_count": 58,
   "metadata": {},
   "outputs": [
    {
     "data": {
      "text/plain": [
       "True"
      ]
     },
     "execution_count": 58,
     "metadata": {},
     "output_type": "execute_result"
    }
   ],
   "source": [
    "\n",
    "sllist([1, 2, 3]) < sllist([1, 3, 3])\n"
   ]
  },
  {
   "cell_type": "code",
   "execution_count": 59,
   "metadata": {},
   "outputs": [
    {
     "data": {
      "text/plain": [
       "False"
      ]
     },
     "execution_count": 59,
     "metadata": {},
     "output_type": "execute_result"
    }
   ],
   "source": [
    "\n",
    "sllist([1, 2]) > sllist([1, 2, 3])\n"
   ]
  },
  {
   "cell_type": "code",
   "execution_count": 60,
   "metadata": {},
   "outputs": [
    {
     "data": {
      "text/plain": [
       "False"
      ]
     },
     "execution_count": 60,
     "metadata": {},
     "output_type": "execute_result"
    }
   ],
   "source": [
    "\n",
    "sllist([1, 2, 3]) <= sllist()\n"
   ]
  },
  {
   "cell_type": "code",
   "execution_count": 61,
   "metadata": {},
   "outputs": [
    {
     "data": {
      "text/plain": [
       "True"
      ]
     },
     "execution_count": 61,
     "metadata": {},
     "output_type": "execute_result"
    }
   ],
   "source": [
    "\n",
    "sllist([1, 2, 3]) >= sllist([1, 2, 3])\n",
    "\n"
   ]
  },
  {
   "cell_type": "code",
   "execution_count": 62,
   "metadata": {},
   "outputs": [
    {
     "name": "stdout",
     "output_type": "stream",
     "text": [
      "sllist([1, 2, 3, 4, 5, 6, 7, 8])\n"
     ]
    }
   ],
   "source": [
    "\n",
    "lst1 = sllist([1, 2, 3, 4])   # extending lists\n",
    "lst2 = sllist([5, 6, 7, 8])\n",
    "ext_lst = lst1 + lst2\n",
    "print(ext_lst)\n"
   ]
  },
  {
   "cell_type": "code",
   "execution_count": 63,
   "metadata": {},
   "outputs": [
    {
     "name": "stdout",
     "output_type": "stream",
     "text": [
      "sllist([1, 2, 3, 4, 1, 2, 3, 4])\n"
     ]
    }
   ],
   "source": [
    "\n",
    "lst = sllist([1, 2, 3, 4])\n",
    "ext_lst = lst * 2\n",
    "print(ext_lst)\n"
   ]
  },
  {
   "cell_type": "code",
   "execution_count": null,
   "metadata": {},
   "outputs": [],
   "source": []
  }
 ],
 "metadata": {
  "kernelspec": {
   "display_name": "Python 3",
   "language": "python",
   "name": "python3"
  },
  "language_info": {
   "codemirror_mode": {
    "name": "ipython",
    "version": 3
   },
   "file_extension": ".py",
   "mimetype": "text/x-python",
   "name": "python",
   "nbconvert_exporter": "python",
   "pygments_lexer": "ipython3",
   "version": "3.8.5"
  }
 },
 "nbformat": 4,
 "nbformat_minor": 4
}
