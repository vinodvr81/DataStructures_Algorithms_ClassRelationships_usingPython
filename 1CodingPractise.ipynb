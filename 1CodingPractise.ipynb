{
 "cells": [
  {
   "cell_type": "code",
   "execution_count": 1,
   "metadata": {},
   "outputs": [],
   "source": [
    "# (1). Find the missing number\n",
    "\n",
    "# (2). Search an element in a sorted and rotated array\n",
    "\n",
    "# (3). Median of two sorted arrays of same size\n",
    "\n",
    "# (4). Two elements whose sum is closest to zero\n",
    "\n",
    "# (5). Find the smallest and second smallest elements in an array\n",
    "\n",
    "# (6). The same approach can be used to find the largest and second largest elements in an array.\n",
    "\n",
    "# (7). Maximum and minimum of an array using minimum number of comparisons\n",
    "\n",
    "# (8). 0-1 Knapsack Problem \n",
    "\n",
    "# (9). k largest (or smallest) elements in an array added Min Heap method\n",
    "\n",
    "# (10). Find subarray with given sum "
   ]
  },
  {
   "cell_type": "markdown",
   "metadata": {},
   "source": [
    "# (1) Find the missing number"
   ]
  },
  {
   "cell_type": "markdown",
   "metadata": {},
   "source": [
    "You are given a list of n-1 integers and these integers are in the range of 1 to n. There are no duplicates in the list. One of the integers is missing in the list. Write an efficient code to find the missing integer."
   ]
  },
  {
   "cell_type": "code",
   "execution_count": 2,
   "metadata": {},
   "outputs": [
    {
     "name": "stdout",
     "output_type": "stream",
     "text": [
      "total 21.0 and sum_of_A 18\n",
      "3.0\n"
     ]
    }
   ],
   "source": [
    "def getMissingNo(A:list):\n",
    "    n = len(A)\n",
    "    total = (n + 1)*(n + 2)/2\n",
    "    sum_of_A = sum(A)\n",
    "    print(\"total {0} and sum_of_A {1}\".format(total,sum_of_A))\n",
    "    return total - sum_of_A\n",
    " \n",
    "\n",
    "A = [1, 2, 4, 5, 6]\n",
    "missing = getMissingNo(A)\n",
    "print(missing)"
   ]
  },
  {
   "cell_type": "code",
   "execution_count": 25,
   "metadata": {},
   "outputs": [
    {
     "name": "stdout",
     "output_type": "stream",
     "text": [
      "3\n"
     ]
    }
   ],
   "source": [
    "def getMissingNumber(A:list):\n",
    "    for i,v in enumerate(A):\n",
    "        if i+1 != v:\n",
    "            return i+1\n",
    "    else:\n",
    "        return None \n",
    "\n",
    "A = [1, 2, 4, 5, 6]\n",
    "miss = getMissingNumber(A)\n",
    "print(miss)"
   ]
  },
  {
   "cell_type": "code",
   "execution_count": 24,
   "metadata": {},
   "outputs": [
    {
     "data": {
      "text/plain": [
       "25"
      ]
     },
     "execution_count": 24,
     "metadata": {},
     "output_type": "execute_result"
    }
   ],
   "source": [
    "numbers = [1,2,3,4,5,1,4,5] \n",
    "  \n",
    "# start parameter is not provided \n",
    "sum(numbers) "
   ]
  },
  {
   "cell_type": "markdown",
   "metadata": {},
   "source": [
    "Complexity Analysis: Time Complexity: O(n). Only one traversal of the array is needed.\n",
    "\n",
    "Space Complexity: O(1). No extra space is needed"
   ]
  },
  {
   "cell_type": "code",
   "execution_count": 4,
   "metadata": {},
   "outputs": [
    {
     "name": "stdout",
     "output_type": "stream",
     "text": [
      "3\n"
     ]
    }
   ],
   "source": [
    "def getMissingNo(a:list, n):\n",
    "    n_elements_sum=n*(n+1)//2\n",
    "    return n_elements_sum-sum(a) \n",
    "\n",
    "if __name__=='__main__': \n",
    "    a = [1, 2, 4, 5, 6]\n",
    "    n = len(a)+1\n",
    "    miss = getMissingNo(a, n) \n",
    "    print(miss)"
   ]
  },
  {
   "cell_type": "markdown",
   "metadata": {},
   "source": [
    "# (2). Search an element in a sorted and rotated array"
   ]
  },
  {
   "cell_type": "markdown",
   "metadata": {},
   "source": [
    "An element in a sorted array can be found in O(log n) time via binary search. But suppose we rotate an ascending order sorted array at some pivot unknown to you beforehand. So for instance, 1 2 3 4 5 might become 3 4 5 1 2. Devise a way to find an element in the rotated array in O(log n) time"
   ]
  },
  {
   "cell_type": "code",
   "execution_count": 5,
   "metadata": {},
   "outputs": [
    {
     "name": "stdout",
     "output_type": "stream",
     "text": [
      "It's a recursive find pivot so mid is 4 and low is 0 and hight is 8\n",
      "It's a recursive find pivot so mid is 6 and low is 5 and hight is 8\n",
      "It's a recursive binary search so mid is : 7 low is : 6 and high is : 8\n",
      "It's a recursive binary search so mid is : 8 low is : 8 and high is : 8\n",
      "Index of the element is :  8\n"
     ]
    }
   ],
   "source": [
    "def pivotedBinarySearch(arr, n, key): \n",
    "  \n",
    "    pivot = findPivot(arr, 0, n-1)\n",
    "  \n",
    "    # If we didn't find a pivot, then array is not rotated at all \n",
    "    if pivot == -1: \n",
    "        return binarySearch(arr, 0, n-1, key)\n",
    "  \n",
    "    # If we found a pivot, then first compare with pivot and then search in two subarrays around pivot \n",
    "    if arr[pivot] == key: \n",
    "        return pivot \n",
    "    if arr[0] <= key: \n",
    "        return binarySearch(arr, 0, pivot-1, key)\n",
    "    return binarySearch(arr, pivot + 1, n-1, key) \n",
    "  \n",
    "  \n",
    "# Function to get pivot. For array  \n",
    "# 3, 4, 5, 6, 1, 2 it returns 3   (index of 6)  \n",
    "def findPivot(arr, low, high): \n",
    "    # low and high are index numbers  \n",
    "    # base cases \n",
    "    \n",
    "    if high < low: \n",
    "        return -1\n",
    "    if high == low: \n",
    "        return low \n",
    "      \n",
    "    # low + (high - low)/2; \n",
    "    mid = int((low + high)/2) \n",
    "    print (\"It's a recursive find pivot so mid is {0} and low is {1} and hight is {2}\".format(mid,low,high))  \n",
    "    if mid < high and arr[mid] > arr[mid + 1]: \n",
    "        return mid \n",
    "    if mid > low and arr[mid] < arr[mid - 1]: \n",
    "        return (mid-1) \n",
    "    if arr[low] >= arr[mid]: \n",
    "        return findPivot(arr, low, mid-1) \n",
    "    return findPivot(arr, mid + 1, high) \n",
    "  \n",
    "# Standard Binary Search function*/ \n",
    "def binarySearch(arr, low, high, key): \n",
    "  \n",
    "    if high < low: \n",
    "        return -1\n",
    "          \n",
    "    # low + (high - low)/2;     \n",
    "    mid = int((low + high)/2) \n",
    "    print(\"It's a recursive binary search so mid is : {0} low is : {1} and high is : {2}\".format(mid,low,high))\n",
    "    if key == arr[mid]: \n",
    "        return mid \n",
    "    if key > arr[mid]: \n",
    "        return binarySearch(arr, (mid + 1), high, key)\n",
    "    return binarySearch(arr, low, (mid -1), key)\n",
    "  \n",
    "  \n",
    "# Driver program to check above functions */ \n",
    "# Let us search 3 in below array \n",
    "arr1 = [5, 6, 7, 8, 9, 10, 1, 2, 3] \n",
    "n = len(arr1) \n",
    "key = 3\n",
    "print(\"Index of the element is : \", pivotedBinarySearch(arr1, n, key)) "
   ]
  },
  {
   "cell_type": "markdown",
   "metadata": {},
   "source": [
    "A refactoring of the above program"
   ]
  },
  {
   "cell_type": "code",
   "execution_count": 6,
   "metadata": {},
   "outputs": [
    {
     "name": "stdout",
     "output_type": "stream",
     "text": [
      "array: [5, 6, 7, 8, 9, 10, 1, 2, 3], low: 0, high: 8, element to find: 3\n",
      "array: [5, 6, 7, 8, 9, 10, 1, 2, 3], low: 5, high: 8, element to find: 3\n",
      "array: [5, 6, 7, 8, 9, 10, 1, 2, 3], low: 7, high: 8, element to find: 3\n",
      "array: [5, 6, 7, 8, 9, 10, 1, 2, 3], low: 8, high: 8, element to find: 3\n",
      "Index:  8\n"
     ]
    }
   ],
   "source": [
    "def search (arr, l, h, key): \n",
    "    if l > h: \n",
    "        return -1\n",
    "    print(\"array: {0}, low: {1}, high: {2}, element to find: {3}\".format(arr, l, h, key) )\n",
    "    mid = (l + h) // 2\n",
    "    if arr[mid] == key: \n",
    "        return mid \n",
    "  \n",
    "    # If arr[l...mid] is sorted  \n",
    "    if arr[l] <= arr[mid]: \n",
    "  \n",
    "        # As this subarray is sorted, we can quickly check if key lies in half or other half  \n",
    "        if key >= arr[l] and key <= arr[mid]: \n",
    "            return search(arr, l, mid-1, key) \n",
    "        return search(arr, mid + 1, h, key) \n",
    "  \n",
    "    # If arr[l..mid] is not sorted, then arr[mid... r]  must be sorted \n",
    "    if key >= arr[mid] and key <= arr[h]: \n",
    "        return search(arr, mid + 1, h, key) \n",
    "    return search(arr, l, mid-1, key) \n",
    "  \n",
    "\n",
    "arr = [5, 6, 7, 8, 9, 10, 1, 2, 3] \n",
    "key = 3\n",
    "i = search(arr, 0, len(arr)-1, key) \n",
    "if i != -1: \n",
    "    print (\"Index: % d\"% i) \n",
    "else: \n",
    "    print (\"Key not found\") "
   ]
  },
  {
   "cell_type": "markdown",
   "metadata": {},
   "source": [
    "# (3). Median of two sorted arrays of same size"
   ]
  },
  {
   "cell_type": "markdown",
   "metadata": {},
   "source": [
    "There are 2 sorted arrays A and B of size n each. Write an algorithm to find the median of the array obtained after merging the above 2 arrays(i.e. array of length 2n). The complexity should be O(log(n))."
   ]
  },
  {
   "cell_type": "code",
   "execution_count": 7,
   "metadata": {},
   "outputs": [
    {
     "name": "stdout",
     "output_type": "stream",
     "text": [
      "Median is  16.0\n"
     ]
    }
   ],
   "source": [
    "def getMedian( ar1, ar2 , n): \n",
    "    i = 0 # Current index of i/p list ar1[] \n",
    "      \n",
    "    j = 0 # Current index of i/p list ar2[] \n",
    "      \n",
    "    m1 = -1\n",
    "    m2 = -1\n",
    "      \n",
    "    # Since there are 2n elements, median will be average of elements at index n-1 and n in the array obtained after \n",
    "    # merging ar1 and ar2 \n",
    "    \n",
    "    count = 0\n",
    "    while count < n + 1: \n",
    "        count += 1\n",
    "          \n",
    "        # Below is to handle case where all elements of ar1[] are smaller than smallest(or first) element of ar2[] \n",
    "        if i == n: \n",
    "            m1 = m2 \n",
    "            m2 = ar2[0] \n",
    "            break\n",
    "          \n",
    "        # Below is to handle case where all elements of ar2[] are smaller than smallest(or first) element of ar1[] \n",
    "        elif j == n: \n",
    "            m1 = m2 \n",
    "            m2 = ar1[0] \n",
    "            break\n",
    "        # equals sign because if two arrays have some common elements  \n",
    "        if ar1[i] <= ar2[j]: \n",
    "            m1 = m2 # Store the prev median \n",
    "            m2 = ar1[i] \n",
    "            i += 1\n",
    "        else: \n",
    "            m1 = m2 # Store the prev median \n",
    "            m2 = ar2[j] \n",
    "            j += 1\n",
    "    return (m1 + m2)/2\n",
    "  \n",
    "# Driver code to test above function \n",
    "ar1 = [1, 12, 15, 26, 38] \n",
    "ar2 = [2, 13, 17, 30, 45] \n",
    "n1 = len(ar1) \n",
    "n2 = len(ar2) \n",
    "if n1 == n2: \n",
    "    print(\"Median is \", getMedian(ar1, ar2, n1)) \n",
    "else: \n",
    "    print(\"Doesn't work for arrays of unequal size\") "
   ]
  },
  {
   "cell_type": "markdown",
   "metadata": {},
   "source": [
    "Time Complexity : O(n)\n",
    "    \n",
    "Method 2 (By comparing the medians of two arrays) \n",
    "\n",
    "This method works by first getting medians of the two sorted arrays and then comparing them. Let ar1 and ar2 be the input arrays. \n",
    "\n",
    "Algorithm :  \n",
    "\n",
    " \n",
    "1) Calculate the medians m1 and m2 of the input arrays ar1[] and ar2[] respectively.\n",
    "\n",
    "2) If m1 and m2 both are equal then we are done. return m1 (or m2)\n",
    "\n",
    "3) If m1 is greater than m2, then median is present in one of the below two subarrays.\n",
    "\n",
    "        a)  From first element of ar1 to m1 (ar1[0...|_n/2_|])\n",
    "\n",
    "        b)  From m2 to last element of ar2  (ar2[|_n/2_|...n-1])\n",
    "    \n",
    "4) If m2 is greater than m1, then median is present in one of the below two subarrays.\n",
    "\n",
    "       a)  From m1 to last element of ar1  (ar1[|_n/2_|...n-1])\n",
    "\n",
    "       b)  From first element of ar2 to m2 (ar2[0...|_n/2_|])\n",
    "\n",
    "5) Repeat the above process until size of both the subarrays becomes 2.\n",
    "\n",
    "6) If size of the two arrays is 2 then use below formula to get the median.\n",
    "\n",
    "    Median = (max(ar1[0], ar2[0]) + min(ar1[1], ar2[1]))/2\n",
    "\n"
   ]
  },
  {
   "cell_type": "code",
   "execution_count": 8,
   "metadata": {},
   "outputs": [
    {
     "name": "stdout",
     "output_type": "stream",
     "text": [
      "Median is  16.0\n"
     ]
    }
   ],
   "source": [
    "# Using Statistics module\n",
    "\n",
    "import statistics \n",
    "  \n",
    "# unsorted list of random integers \n",
    "ar1 = [1, 12, 15, 26, 38] \n",
    "ar2 = [2, 13, 17, 30, 45] \n",
    "\n",
    "m1 = statistics.median(ar1)\n",
    "m2 = statistics.median(ar2)\n",
    "\n",
    "if m1 == m2:\n",
    "    print(\"Median is \", m1) \n",
    "else:\n",
    "    ar1.extend(ar2)\n",
    "    ar1 = list(set(ar1))\n",
    "    m3 = statistics.median(ar1)\n",
    "    print(\"Median is \", m3) \n",
    "    "
   ]
  },
  {
   "cell_type": "markdown",
   "metadata": {},
   "source": [
    "# (4). Two elements whose sum is closest to zero"
   ]
  },
  {
   "cell_type": "markdown",
   "metadata": {},
   "source": [
    "Question: An Array of integers is given, both +ve and -ve. You need to find the two elements such that their sum is closest to zero"
   ]
  },
  {
   "cell_type": "markdown",
   "metadata": {},
   "source": [
    "METHOD 1 (Simple) \n",
    "For each element, find the sum of it with every other element in the array and compare sums. Finally, return the minimum sum."
   ]
  },
  {
   "cell_type": "code",
   "execution_count": 9,
   "metadata": {},
   "outputs": [
    {
     "name": "stdout",
     "output_type": "stream",
     "text": [
      "The two elements whose sum is minimum are -80 and  85\n"
     ]
    }
   ],
   "source": [
    "def minAbsSumPair(arr,arr_size):\n",
    "    inv_count = 0\n",
    " \n",
    "    # Array should have at least two elements\n",
    "    if arr_size < 2:\n",
    "        print(\"Invalid Input\")\n",
    "        return\n",
    " \n",
    "    # Initialization of values \n",
    "    min_l = 0\n",
    "    min_r = 1\n",
    "    min_sum = arr[0] + arr[1]\n",
    "    for l in range (0, arr_size - 1):\n",
    "        for r in range (l + 1, arr_size):\n",
    "            sum = arr[l] + arr[r]                 \n",
    "            if abs(min_sum) > abs(sum):         \n",
    "                min_sum = sum\n",
    "                min_l = l\n",
    "                min_r = r\n",
    " \n",
    "    print(\"The two elements whose sum is minimum are\",  arr[min_l], \"and \", arr[min_r])\n",
    "\n",
    "    \n",
    "arr = [1, 60, -10, 70, -80, 85]\n",
    " \n",
    "minAbsSumPair(arr, len(arr))"
   ]
  },
  {
   "cell_type": "markdown",
   "metadata": {},
   "source": [
    "Time complexity: O(n^2)"
   ]
  },
  {
   "cell_type": "markdown",
   "metadata": {},
   "source": [
    "METHOD 2 (Use Sorting) \n",
    "\n",
    "Algorithm:\n",
    "    \n",
    "1) Sort all the elements of the input array. \n",
    "\n",
    "2) Use two index variables l and r to traverse from left and right ends respectively. Initialize l as 0 and r as n-1. \n",
    "\n",
    "3) sum = a[l] + a[r] \n",
    "\n",
    "4) If sum is -ve, then l++ \n",
    "\n",
    "5) If sum is +ve, then r– \n",
    "\n",
    "6) Keep track of abs min sum. \n",
    "\n",
    "7) Repeat steps 3, 4, 5 and 6 while l < r"
   ]
  },
  {
   "cell_type": "code",
   "execution_count": 10,
   "metadata": {},
   "outputs": [
    {
     "name": "stdout",
     "output_type": "stream",
     "text": [
      "The two elements whose sum is minimum are -80 and 85\n"
     ]
    }
   ],
   "source": [
    "def partition(arr, si, ei):\n",
    "    x = arr[ei]\n",
    "    i = (si - 1)\n",
    " \n",
    "    for j in range(si,ei):\n",
    "        if(arr[j] <= x):\n",
    "            i += 1\n",
    "            arr[i], arr[j] = arr[j], arr[i]\n",
    "    arr[i + 1], arr[ei] = arr[ei], arr[i + 1]\n",
    "    return (i + 1) \n",
    " \n",
    "# Implementation of Quick Sort arr[] --> Array to be sorted \n",
    "# si --> Starting index\n",
    "# ei --> Ending index\n",
    "def quickSort(arr, si, ei):\n",
    "    pi = 0 # Partitioning index */\n",
    "    if(si < ei):\n",
    "        pi = partition(arr, si, ei)\n",
    "        quickSort(arr, si, pi - 1)\n",
    "        quickSort(arr, pi + 1, ei)\n",
    " \n",
    "def minAbsSumPair(arr, n):\n",
    " \n",
    "    # Variables to keep track\n",
    "    # of current sum and minimum sum\n",
    "    sum, min_sum = 0, 10**9\n",
    " \n",
    "    # left and right index variables\n",
    "    l = 0\n",
    "    r = n - 1\n",
    " \n",
    "    # variable to keep track of\n",
    "    # the left and right pair for min_sum\n",
    "    min_l = l\n",
    "    min_r = n - 1\n",
    " \n",
    "    # Array should have at least two elements*/\n",
    "    if(n < 2):\n",
    "        print(\"Invalid Input\", end = \"\")\n",
    "        return\n",
    " \n",
    "    # Sort the elements */\n",
    "    quickSort(arr, l, r)\n",
    " \n",
    "    while(l < r):\n",
    "        sum = arr[l] + arr[r]\n",
    " \n",
    "        # If abs(sum) is less\n",
    "        # then update the result items\n",
    "        if(abs(sum) < abs(min_sum)):\n",
    "            min_sum = sum\n",
    "            min_l = l\n",
    "            min_r = r\n",
    "        if(sum < 0):\n",
    "            l += 1\n",
    "        else:\n",
    "            r -= 1\n",
    " \n",
    "    print(\"The two elements whose sum is minimum are\", arr[min_l], \"and\", arr[min_r])\n",
    " \n",
    "\n",
    "arr = [1, 60, -10, 70, -80, 85] \n",
    "n = len(arr)\n",
    "minAbsSumPair(arr, n)"
   ]
  },
  {
   "cell_type": "markdown",
   "metadata": {},
   "source": [
    "STL implementation of Method-2:\n",
    "\n",
    "Algorithm \n",
    "\n",
    "1) Sort all the elements of the input array using their absolute values. \n",
    "\n",
    "2) Check absolute sum of arr[i-1] and arr[i] if their absolute sum is less than min update min with their absolute value. \n",
    "\n",
    "3) Use two variables to store the index of the elements."
   ]
  },
  {
   "cell_type": "code",
   "execution_count": 11,
   "metadata": {},
   "outputs": [
    {
     "name": "stdout",
     "output_type": "stream",
     "text": [
      "The two elements whose sum is minimum are -80 and 85\n"
     ]
    }
   ],
   "source": [
    "import sys\n",
    " \n",
    "def findMinSum(arr, n):\n",
    "     \n",
    "    for i in range(1, n):\n",
    "         \n",
    "        # Modified to sort by abolute values\n",
    "        if (not abs(arr[i - 1]) < abs(arr[i])):\n",
    "            arr[i - 1], arr[i] = arr[i], arr[i - 1]\n",
    " \n",
    "    Min = sys.maxsize\n",
    "    x = 0\n",
    "    y = 0\n",
    "   \n",
    "    for i in range(1, n):\n",
    "         \n",
    "        # Absolute value shows how \n",
    "        # close it is to zero \n",
    "        if (abs(arr[i - 1] + arr[i]) <= Min):\n",
    "             \n",
    "            # If found an even close value \n",
    "            # update min and store the index\n",
    "            Min = abs(arr[i - 1] + arr[i])\n",
    "            x = i - 1\n",
    "            y = i\n",
    " \n",
    "    print(\"The two elements whose sum is minimum are\",\n",
    "          arr[x], \"and\", arr[y])\n",
    " \n",
    "# Driver code \n",
    "arr = [ 1, 60, -10, 70, -80, 85 ]\n",
    "n = len(arr)\n",
    " \n",
    "findMinSum(arr, n)"
   ]
  },
  {
   "cell_type": "markdown",
   "metadata": {},
   "source": [
    "# (5). Find the smallest and second smallest elements in an array"
   ]
  },
  {
   "cell_type": "markdown",
   "metadata": {},
   "source": [
    "A Simple Solution is to sort the array in increasing order. The first two elements in sorted array would be two smallest elements. Time complexity of this solution is O(n Log n).\n",
    "\n",
    "A Better Solution is to scan the array twice. In first traversal find the minimum element. Let this element be x. In second traversal, find the smallest element greater than x. Time complexity of this solution is O(n)."
   ]
  },
  {
   "cell_type": "code",
   "execution_count": 12,
   "metadata": {},
   "outputs": [
    {
     "name": "stdout",
     "output_type": "stream",
     "text": [
      "The smallest element is 1 and second smallest element is 10\n"
     ]
    }
   ],
   "source": [
    "import sys \n",
    "  \n",
    "def print2Smallest(arr):   \n",
    "    x = sorted(list(set(arr)))    \n",
    "    print('The smallest element is',x[0],'and second smallest element is',x[1] )\n",
    "    \n",
    "arr = [12, 13, 1, 10, 34, 1] \n",
    "print2Smallest(arr) "
   ]
  },
  {
   "cell_type": "markdown",
   "metadata": {},
   "source": [
    "# (6). The same approach can be used to find the largest and second largest elements in an array."
   ]
  },
  {
   "cell_type": "code",
   "execution_count": 13,
   "metadata": {},
   "outputs": [
    {
     "name": "stdout",
     "output_type": "stream",
     "text": [
      "The largest  element is 34 and second largest element is 13\n"
     ]
    }
   ],
   "source": [
    "import sys \n",
    "  \n",
    "def print2Largest(arr):   \n",
    "    x = sorted(list(set(arr)))  \n",
    "    print('The largest  element is',x[-1],'and second largest element is',x[-2] )\n",
    "    \n",
    "arr = [12, 13, 1, 10, 34, 1] \n",
    "print2Largest(arr) "
   ]
  },
  {
   "cell_type": "markdown",
   "metadata": {},
   "source": [
    "Another way to do is "
   ]
  },
  {
   "cell_type": "code",
   "execution_count": 14,
   "metadata": {},
   "outputs": [
    {
     "name": "stdout",
     "output_type": "stream",
     "text": [
      "The smallest element is 1 and second smallest element is 10\n"
     ]
    }
   ],
   "source": [
    "import sys \n",
    "  \n",
    "def print2Smallest(arr): \n",
    "  \n",
    "    # There should be atleast two elements \n",
    "    arr_size = len(arr) \n",
    "    if arr_size < 2: \n",
    "        print(\"Invalid Input\")\n",
    "        return\n",
    "  \n",
    "    first = second = sys.maxsize\n",
    "    for i in range(0, arr_size): \n",
    "  \n",
    "        # If current element is smaller than first then \n",
    "        # update both first and second \n",
    "        if arr[i] < first: \n",
    "            second = first \n",
    "            first = arr[i] \n",
    "  \n",
    "        # If arr[i] is in between first and second then \n",
    "        # update second \n",
    "        elif (arr[i] < second and arr[i] != first): \n",
    "            second = arr[i]; \n",
    "  \n",
    "    if (second == sys.maxsize): \n",
    "        print(\"No second smallest element\")\n",
    "    else: \n",
    "        print('The smallest element is',first,'and second smallest element is',second )\n",
    "  \n",
    "# Driver function to test above function \n",
    "arr = [12, 13, 1, 10, 34, 1] \n",
    "print2Smallest(arr) "
   ]
  },
  {
   "cell_type": "markdown",
   "metadata": {},
   "source": [
    "# (7). Maximum and minimum of an array using minimum number of comparisons"
   ]
  },
  {
   "cell_type": "code",
   "execution_count": 15,
   "metadata": {},
   "outputs": [
    {
     "name": "stdout",
     "output_type": "stream",
     "text": [
      "Minimum element is 1\n",
      "Maximum element is 3000\n"
     ]
    }
   ],
   "source": [
    "class pair:\n",
    "    def __init__(self):\n",
    "        self.min = 0\n",
    "        self.max = 0\n",
    " \n",
    "def getMinMax(arr: list, n: int) -> pair:\n",
    "    minmax = pair()\n",
    " \n",
    "    # If there is only one element then return it as min and max both\n",
    "    if n == 1:\n",
    "        minmax.max = arr[0]\n",
    "        minmax.min = arr[0]\n",
    "        return minmax\n",
    " \n",
    "    # If there are more than one elements, then initialize min\n",
    "    # and max\n",
    "    if arr[0] > arr[1]:\n",
    "        minmax.max = arr[0]\n",
    "        minmax.min = arr[1]\n",
    "    else:\n",
    "        minmax.max = arr[1]\n",
    "        minmax.min = arr[0]\n",
    " \n",
    "    for i in range(2, n):\n",
    "        if arr[i] > minmax.max:\n",
    "            minmax.max = arr[i]\n",
    "        elif arr[i] < minmax.min:\n",
    "            minmax.min = arr[i]\n",
    " \n",
    "    return minmax\n",
    " \n",
    "# Driver Code\n",
    "if __name__ == \"__main__\":\n",
    "    arr = [1000, 11, 445, 1, 330, 3000]\n",
    "    arr_size = 6\n",
    "    minmax = getMinMax(arr, arr_size)\n",
    "    print(\"Minimum element is\", minmax.min)\n",
    "    print(\"Maximum element is\", minmax.max)\n",
    " "
   ]
  },
  {
   "cell_type": "code",
   "execution_count": 16,
   "metadata": {},
   "outputs": [
    {
     "name": "stdout",
     "output_type": "stream",
     "text": [
      "Minimum element is 1\n",
      "Maximum element is 3000\n"
     ]
    }
   ],
   "source": [
    "def minMax(arr:list):\n",
    "    x=sorted(arr)\n",
    "    print(\"Minimum element is\", x[0])\n",
    "    print(\"Maximum element is\", x[-1])\n",
    "\n",
    "arr = [1000, 11, 445, 1, 330, 3000]\n",
    "minMax(arr)\n",
    "    \n",
    "    "
   ]
  },
  {
   "cell_type": "markdown",
   "metadata": {},
   "source": [
    "# (8). 0-1 Knapsack Problem \n",
    "\n"
   ]
  },
  {
   "cell_type": "markdown",
   "metadata": {},
   "source": [
    "Given weights and values of n items, put these items in a knapsack of capacity W to get the maximum total value in the knapsack. In other words, given two integer arrays val[0..n-1] and wt[0..n-1] which represent values and weights associated with n items respectively. Also given an integer W which represents knapsack capacity, find out the maximum value subset of val[] such that sum of the weights of this subset is smaller than or equal to W. You cannot break an item, either pick the complete item or don’t pick it (0-1 property)."
   ]
  },
  {
   "cell_type": "markdown",
   "metadata": {},
   "source": [
    "Method 1: Recursion.\n",
    "    \n",
    "Approach: A simple solution is to consider all subsets of items and calculate the total weight and value of all subsets. \n",
    "\n",
    "Consider the only subsets whose total weight is smaller than W. From all such subsets, pick the maximum value subset.\n",
    "Optimal Sub-structure: To consider all subsets of items, there can be two cases for every item. \n",
    "\n",
    "Case 1: The item is included in the optimal subset.\n",
    "    \n",
    "Case 2: The item is not included in the optimal set.\n",
    "    \n",
    "Therefore, the maximum value that can be obtained from ‘n’ items is the max of the following two values. \n",
    "\n",
    "Maximum value obtained by n-1 items and W weight (excluding nth item).\n",
    "\n",
    "Value of nth item plus maximum value obtained by n-1 items and W minus the weight of the nth item (including nth item).\n",
    "\n",
    "If the weight of ‘nth’ item is greater than ‘W’, then the nth item cannot be included and Case 1 is the only possibility.\n"
   ]
  },
  {
   "cell_type": "code",
   "execution_count": 17,
   "metadata": {},
   "outputs": [
    {
     "name": "stdout",
     "output_type": "stream",
     "text": [
      "220\n"
     ]
    }
   ],
   "source": [
    "def knapSack(W, wt, val, n): \n",
    "  \n",
    "    # Base Case \n",
    "    if n == 0 or W == 0: \n",
    "        return 0\n",
    "  \n",
    "    # If weight of the nth item is more than Knapsack of capacity W, then this item cannot be included in the optimal solution \n",
    "    if (wt[n-1] > W): \n",
    "        return knapSack(W, wt, val, n-1) \n",
    "  \n",
    "    # return the maximum of two cases: \n",
    "    # (1) nth item included \n",
    "    # (2) not included \n",
    "    else: \n",
    "        return max(val[n-1] + knapSack(W-wt[n-1], wt, val, n-1), knapSack(W, wt, val, n-1)) \n",
    "  \n",
    "\n",
    "val = [60, 100, 120] \n",
    "wt = [10, 20, 30] \n",
    "W = 50\n",
    "n = len(val) \n",
    "print(knapSack(W, wt, val, n))"
   ]
  },
  {
   "cell_type": "markdown",
   "metadata": {},
   "source": [
    "Method 2: Like other typical Dynamic Programming(DP) problems, precomputations of same subproblems can be avoided by constructing a temporary array K[][] in bottom-up manner. Following is Dynamic Programming based implementation.\n",
    "Approach: In the Dynamic programming we will work considering the same cases as mentioned in the recursive approach. In a DP[][] table let’s consider all the possible weights from ‘1’ to ‘W’ as the columns and weights that can be kept as the rows. \n",
    "The state DP[i][j] will denote maximum value of ‘j-weight’ considering all values from ‘1 to ith’. So if we consider ‘wi’ (weight in ‘ith’ row) we can fill it in all columns which have ‘weight values > wi’. Now two possibilities can take place: \n",
    "\n",
    "Fill ‘wi’ in the given column.\n",
    "Do not fill ‘wi’ in the given column.\n",
    "Now we have to take a maximum of these two possibilities, formally if we do not fill ‘ith’ weight in ‘jth’ column then DP[i][j] state will be same as DP[i-1][j] but if we fill the weight, DP[i][j] will be equal to the value of ‘wi’+ value of the column weighing ‘j-wi’ in the previous row. So we take the maximum of these two possibilities to fill the current state. This visualization will make the concept clear:  \n",
    "\n",
    "Let weight elements = {1, 2, 3}\n",
    "Let weight values = {10, 15, 40}\n",
    "Capacity=6\n",
    "\n",
    "0   1   2   3   4   5   6\n",
    "\n",
    "0  0   0   0   0   0   0   0\n",
    "\n",
    "1  0  10  10  10  10  10  10\n",
    "\n",
    "2  0  10  15  25  25  25  25\n",
    "\n",
    "3  0\n",
    " \n",
    "Explanation:\n",
    "For filling 'weight = 2' we come \n",
    "across 'j = 3' in which \n",
    "we take maximum of \n",
    "(10, 15 + DP[1][3-2]) = 25   \n",
    "  |        |\n",
    "'2'       '2 filled'\n",
    "not filled  \n",
    "\n",
    "0   1   2   3   4   5   6\n",
    "\n",
    "0  0   0   0   0   0   0   0\n",
    "\n",
    "1  0  10  10  10  10  10  10\n",
    "\n",
    "2  0  10  15  25  25  25  25\n",
    "\n",
    "3  0  10  15  40  50  55  65\n",
    "\n",
    "Explanation:\n",
    "For filling 'weight=3', \n",
    "we come across 'j=4' in which \n",
    "we take maximum of (25, 40 + DP[2][4-3]) \n",
    "= 50\n",
    "\n",
    "For filling 'weight=3' \n",
    "we come across 'j=5' in which \n",
    "we take maximum of (25, 40 + DP[2][5-3])\n",
    "= 55\n",
    "\n",
    "For filling 'weight=3' \n",
    "we come across 'j=6' in which \n",
    "we take maximum of (25, 40 + DP[2][6-3])\n",
    "= 65"
   ]
  },
  {
   "cell_type": "code",
   "execution_count": 18,
   "metadata": {},
   "outputs": [
    {
     "name": "stdout",
     "output_type": "stream",
     "text": [
      "220\n"
     ]
    }
   ],
   "source": [
    "def knapSack(W, wt, val, n): \n",
    "    K = [[0 for x in range(W + 1)] for x in range(n + 1)] \n",
    "  \n",
    "    # Build table K[][] in bottom up manner \n",
    "    for i in range(n + 1): \n",
    "        for w in range(W + 1): \n",
    "            if i == 0 or w == 0: \n",
    "                K[i][w] = 0\n",
    "            elif wt[i-1] <= w: \n",
    "                K[i][w] = max(val[i-1] + K[i-1][w-wt[i-1]],  K[i-1][w]) \n",
    "            else: \n",
    "                K[i][w] = K[i-1][w] \n",
    "  \n",
    "    return K[n][W] \n",
    "  \n",
    "  \n",
    "# Driver code \n",
    "val = [60, 100, 120] \n",
    "wt = [10, 20, 30] \n",
    "W = 50\n",
    "n = len(val) \n",
    "print(knapSack(W, wt, val, n)) "
   ]
  },
  {
   "cell_type": "markdown",
   "metadata": {},
   "source": [
    "# (9). k largest (or smallest) elements in an array added Min Heap method"
   ]
  },
  {
   "cell_type": "code",
   "execution_count": 19,
   "metadata": {},
   "outputs": [
    {
     "name": "stdout",
     "output_type": "stream",
     "text": [
      "50 30 23 "
     ]
    }
   ],
   "source": [
    "def kLargest(arr:list, k):\n",
    "    # Sort the given array arr in reverse \n",
    "    # order.\n",
    "    arr.sort(reverse = True)\n",
    "    # Print the first kth largest elements\n",
    "    for i in range(k):\n",
    "        print (arr[i], end =\" \") \n",
    " \n",
    "# Driver program\n",
    "arr = [1, 23, 12, 9, 30, 2, 50]\n",
    "# n = len(arr)\n",
    "k = 3\n",
    "kLargest(arr, k)"
   ]
  },
  {
   "cell_type": "markdown",
   "metadata": {},
   "source": [
    "# (10). Find subarray with given sum "
   ]
  },
  {
   "cell_type": "code",
   "execution_count": null,
   "metadata": {},
   "outputs": [],
   "source": []
  },
  {
   "cell_type": "code",
   "execution_count": 20,
   "metadata": {},
   "outputs": [
    {
     "name": "stdout",
     "output_type": "stream",
     "text": [
      "Sum found between\n",
      "indexes  1 and  5\n"
     ]
    },
    {
     "data": {
      "text/plain": [
       "1"
      ]
     },
     "execution_count": 20,
     "metadata": {},
     "output_type": "execute_result"
    }
   ],
   "source": [
    "def subArraySum(arr, n, total): \n",
    "      \n",
    "    # Pick a starting  \n",
    "    # point \n",
    "    for i in range(n): \n",
    "        curr_sum = arr[i] \n",
    "      \n",
    "        # try all subarrays \n",
    "        # starting with 'i' \n",
    "        j = i + 1\n",
    "        while j <= n: \n",
    "          \n",
    "            if curr_sum == total: \n",
    "                print (\"Sum found between\") \n",
    "                print(\"indexes % d and % d\"%( i, j-1)) \n",
    "                  \n",
    "                return 1\n",
    "                  \n",
    "            if curr_sum > total or j == n: \n",
    "                break\n",
    "              \n",
    "            curr_sum = curr_sum + arr[j] \n",
    "            j += 1\n",
    "  \n",
    "    print (\"No subarray found\") \n",
    "    return 0\n",
    "  \n",
    "# Driver program  \n",
    "arr = [15, 2, 4, 8, 9, 5, 10, 18] \n",
    "n = len(arr) \n",
    "total = 28\n",
    "  \n",
    "subArraySum(arr, n, total) "
   ]
  },
  {
   "cell_type": "code",
   "execution_count": 21,
   "metadata": {},
   "outputs": [
    {
     "data": {
      "text/plain": [
       "28"
      ]
     },
     "execution_count": 21,
     "metadata": {},
     "output_type": "execute_result"
    }
   ],
   "source": [
    "2+4+8+9+5"
   ]
  },
  {
   "cell_type": "code",
   "execution_count": 22,
   "metadata": {},
   "outputs": [
    {
     "name": "stdout",
     "output_type": "stream",
     "text": [
      "Sum found between\n",
      "indexes  0 and  0\n"
     ]
    },
    {
     "data": {
      "text/plain": [
       "1"
      ]
     },
     "execution_count": 22,
     "metadata": {},
     "output_type": "execute_result"
    }
   ],
   "source": [
    "subArraySum(arr, n, 15) "
   ]
  },
  {
   "cell_type": "code",
   "execution_count": null,
   "metadata": {},
   "outputs": [],
   "source": []
  }
 ],
 "metadata": {
  "kernelspec": {
   "display_name": "Python 3",
   "language": "python",
   "name": "python3"
  },
  "language_info": {
   "codemirror_mode": {
    "name": "ipython",
    "version": 3
   },
   "file_extension": ".py",
   "mimetype": "text/x-python",
   "name": "python",
   "nbconvert_exporter": "python",
   "pygments_lexer": "ipython3",
   "version": "3.8.5"
  }
 },
 "nbformat": 4,
 "nbformat_minor": 4
}
