{
 "cells": [
  {
   "cell_type": "markdown",
   "metadata": {},
   "source": [
    "# Association"
   ]
  },
  {
   "cell_type": "code",
   "execution_count": 99,
   "metadata": {},
   "outputs": [
    {
     "name": "stdout",
     "output_type": "stream",
     "text": [
      "A Class add num results: 11\n",
      "Full name with First name followed by Surname: Vinod Vukkalam\n",
      "Full name with Surname followed by first name: Vukkalam Vinod\n",
      "B class add num results: 16\n",
      "Total Numerical result from A and B class: 27\n",
      "First Name is Vinod\n",
      "Surname is Vukkalam\n"
     ]
    }
   ],
   "source": [
    "class A:\n",
    "    def __init__(self, a:str, b:int, c:int):\n",
    "        self.a = a\n",
    "        self.b = b\n",
    "        self.c = c\n",
    "\n",
    "    def addNums(self):\n",
    "        return self.b + self.c\n",
    "        \n",
    "    def addName(self,b=None):\n",
    "        if isinstance(b,str):\n",
    "            return self.a +\" \"+ b\n",
    "        else:\n",
    "            return self.a\n",
    "\n",
    "class B:\n",
    "    def __init__(self, d:str, e:int, f:int):\n",
    "        self.d = d\n",
    "        self.e = e\n",
    "        self.f = f\n",
    "\n",
    "    def addAllNums(self, x=None, y=None):\n",
    "        if x is not None and y is not None:\n",
    "                return self.e + self.f + x + y\n",
    "        else:\n",
    "            return self.e + self.f\n",
    "        \n",
    "    def surname(self,b=None):\n",
    "        if isinstance(b,str):\n",
    "            return self.d +\" \"+ b\n",
    "        else:\n",
    "            return self.d\n",
    "        \n",
    "\n",
    "aclass = A(\"Vinod\", 2, 9)\n",
    "\n",
    "bclass = B(\"Vukkalam\",7, 9)\n",
    "\n",
    "print(\"A Class add num results: {0}\".format(aclass.addNums()))\n",
    "\n",
    "print(\"Full name with First name followed by Surname: {0}\".format(aclass.addName(bclass.d)))\n",
    "\n",
    "print(\"Full name with Surname followed by first name: {0}\".format(bclass.surname(aclass.a)))\n",
    "\n",
    "print(\"B class add num results: {0}\".format(bclass.addAllNums()))\n",
    "\n",
    "print(\"Total Numerical result from A and B class: {0}\".format(bclass.addAllNums(aclass.b, aclass.c)))\n",
    "\n",
    "print(\"First Name is {0}\".format(aclass.addName()))\n",
    "\n",
    "print(\"Surname is {0}\".format(bclass.surname()))\n",
    "\n"
   ]
  },
  {
   "cell_type": "markdown",
   "metadata": {},
   "source": [
    "In Summary Association example shown has\n",
    "\n",
    "Class B has a week association relationship with Class A and \n",
    "\n",
    "Class A  has a week association relationship with Class B"
   ]
  },
  {
   "cell_type": "markdown",
   "metadata": {},
   "source": [
    "# Aggregation\n",
    "\n"
   ]
  },
  {
   "cell_type": "code",
   "execution_count": 100,
   "metadata": {},
   "outputs": [
    {
     "name": "stdout",
     "output_type": "stream",
     "text": [
      "C Class add num results: 13\n",
      "Full name with First name followed by Surname: Vinod Vukkalam\n",
      "Full name with Surname followed by first name: Vukkalam Vinod\n",
      "Total Numerical result from A and B class: 33\n"
     ]
    }
   ],
   "source": [
    "class C:\n",
    "    def __init__(self, a:str, b:int, c:int):\n",
    "        self.a = a\n",
    "        self.b = b\n",
    "        self.c = c\n",
    "\n",
    "    def addNums(self):\n",
    "        return self.b + self.c\n",
    "\n",
    "class D:\n",
    "    def __init__(self, d:str, e:int, f:str, C:object):\n",
    "        self.d = d\n",
    "        self.e = e\n",
    "        self.f = f\n",
    "        self.C = C\n",
    "\n",
    "    def addAllNums(self):\n",
    "        x = self.e + self.f + self.C.b + self.C.c\n",
    "        return x\n",
    "    \n",
    "    def name(self,g:str):\n",
    "        if g=='first':\n",
    "            return self.d +\" \"+ self.C.a\n",
    "        elif g=='second':\n",
    "            return self.C.a+ \" \" + self.d\n",
    "\n",
    "cclass = C(\"Vinod\", 2, 11)\n",
    "\n",
    "dclass = D(\"Vukkalam\",11, 9, cclass)\n",
    "\n",
    "print(\"C Class add num results: {0}\".format(cclass.addNums()))\n",
    "\n",
    "print(\"Full name with First name followed by Surname: {0}\".format(dclass.name('second')))\n",
    "\n",
    "print(\"Full name with Surname followed by first name: {0}\".format(dclass.name('first')))\n",
    "\n",
    "print(\"Total Numerical result from A and B class: {0}\".format(dclass.addAllNums()))"
   ]
  },
  {
   "cell_type": "markdown",
   "metadata": {},
   "source": [
    "Class C forms an aggregation relationship with Class D, as it references an independent C object when initialized, \n",
    "\n",
    "as one of its attributes. Whilst a D object is dependent on C, in the event of D's destruction,\n",
    "\n",
    "C will continue to exist as it is independent of D."
   ]
  },
  {
   "cell_type": "markdown",
   "metadata": {},
   "source": [
    "# Composition"
   ]
  },
  {
   "cell_type": "code",
   "execution_count": 101,
   "metadata": {},
   "outputs": [
    {
     "name": "stdout",
     "output_type": "stream",
     "text": [
      "E Class add num results: 20\n",
      "Full name with First name followed by Surname: Vukkalam Vinod\n",
      "Full name with Surname followed by first name: Vinod Vukkalam\n",
      "Total Numerical result from A and B class: 33\n"
     ]
    }
   ],
   "source": [
    "class E:\n",
    "    def __init__(self, a:str, b:int, c:int):\n",
    "        self.a = a\n",
    "        self.b = b\n",
    "        self.c = c\n",
    "\n",
    "    def addNums(self):\n",
    "        return self.b + self.c\n",
    "\n",
    "class F:\n",
    "    \n",
    "    def __init__(self, d:str, e:int, f:int):\n",
    "        self.d = d\n",
    "        self.e = e\n",
    "        self.f = f\n",
    "        self.h = E(\"Vukkalam\",11, 9)\n",
    "\n",
    "    def addAllNums(self):\n",
    "        x = self.e + self.f + self.h.b + self.h.c\n",
    "        return x\n",
    "    \n",
    "    def name(self,g:str):        \n",
    "        if g=='first':\n",
    "            return self.d +\" \"+ self.h.a\n",
    "        elif g=='second':\n",
    "            return self.h.a+ \" \" + self.d\n",
    "        \n",
    "    def eClassNums(self):\n",
    "        return self.h.addNums()\n",
    "\n",
    "fclass = F(\"Vinod\", 2, 11)\n",
    "\n",
    "print(\"E Class add num results: {0}\".format(fclass.eClassNums()))\n",
    "\n",
    "print(\"Full name with First name followed by Surname: {0}\".format(fclass.name('second')))\n",
    "\n",
    "print(\"Full name with Surname followed by first name: {0}\".format(fclass.name('first')))\n",
    "\n",
    "print(\"Total Numerical result from A and B class: {0}\".format(fclass.addAllNums()))"
   ]
  },
  {
   "cell_type": "markdown",
   "metadata": {},
   "source": [
    "Much like aggregation,in Composition rather than referencing an independent object, \n",
    "\n",
    "F actually initializes an instance of E in it's own constructor as an attribute.\n",
    "\n",
    "If the F object is destroyed then so too is the E object. \n",
    "\n",
    "This is why composition is such a strong relationship."
   ]
  },
  {
   "cell_type": "markdown",
   "metadata": {},
   "source": [
    "# Types of Inheritance in Python"
   ]
  },
  {
   "cell_type": "markdown",
   "metadata": {},
   "source": [
    "There are four types of inheritance in Python\n"
   ]
  },
  {
   "cell_type": "markdown",
   "metadata": {},
   "source": [
    "# Single Inheritance:\n"
   ]
  },
  {
   "cell_type": "markdown",
   "metadata": {},
   "source": [
    "Single inheritance enables a derived class to inherit properties from a single parent class, \n",
    "\n",
    "thus enabling code reusability and the addition of new features to existing code."
   ]
  },
  {
   "cell_type": "code",
   "execution_count": 102,
   "metadata": {},
   "outputs": [
    {
     "name": "stdout",
     "output_type": "stream",
     "text": [
      "This function is in parent class.\n",
      "This function is in child class.\n"
     ]
    }
   ],
   "source": [
    "class Parent:\n",
    "     def func1(self):\n",
    "          print(\"This function is in parent class.\")\n",
    " \n",
    "\n",
    "class Child(Parent):\n",
    "     def func2(self):\n",
    "          print(\"This function is in child class.\")\n",
    " \n",
    "\n",
    "object = Child()\n",
    "object.func1()\n",
    "object.func2()"
   ]
  },
  {
   "cell_type": "code",
   "execution_count": 103,
   "metadata": {},
   "outputs": [
    {
     "data": {
      "text/plain": [
       "(__main__.Child, __main__.Parent, object)"
      ]
     },
     "execution_count": 103,
     "metadata": {},
     "output_type": "execute_result"
    }
   ],
   "source": [
    "Child.__mro__"
   ]
  },
  {
   "cell_type": "markdown",
   "metadata": {},
   "source": [
    "# Multiple Inheritance: "
   ]
  },
  {
   "cell_type": "markdown",
   "metadata": {},
   "source": [
    "When a class can be derived from more than one base class this type of inheritance is called multiple inheritance. In multiple inheritance, all the features of the base classes are inherited \n",
    "into the derived class. "
   ]
  },
  {
   "cell_type": "code",
   "execution_count": 104,
   "metadata": {},
   "outputs": [
    {
     "name": "stdout",
     "output_type": "stream",
     "text": [
      "Father : Rangaswamy, Mother : Shobha \n",
      "Vinod\n"
     ]
    }
   ],
   "source": [
    "class Mother:\n",
    "    def __init__(self):\n",
    "        self.__mothername = \"Shobha\"\n",
    "    def getMother(self):\n",
    "        return self.__mothername\n",
    " \n",
    "\n",
    "class Father:\n",
    "    def __init__(self):\n",
    "        self.__fathername = \"Rangaswamy\"\n",
    "    def getFather(self):\n",
    "        return self.__fathername\n",
    " \n",
    "\n",
    "class Son(Mother, Father):\n",
    "    def __init__(self):\n",
    "        Mother.__init__(self)\n",
    "        Father.__init__(self)\n",
    "        self.__sonname = \"Vinod\"\n",
    "    def getParents(self):\n",
    "        str1 = \"Father : {0}, Mother : {1} \".format(self.getFather(),self.getMother())\n",
    "        return str1\n",
    "    def getSon(self):\n",
    "        return self.__sonname \n",
    "        \n",
    " \n",
    "\n",
    "sn = Son()\n",
    "print(sn.getParents())\n",
    "print(sn.getSon())\n",
    "        \n"
   ]
  },
  {
   "cell_type": "code",
   "execution_count": 105,
   "metadata": {},
   "outputs": [
    {
     "data": {
      "text/plain": [
       "(__main__.Son, __main__.Mother, __main__.Father, object)"
      ]
     },
     "execution_count": 105,
     "metadata": {},
     "output_type": "execute_result"
    }
   ],
   "source": [
    "Son.__mro__"
   ]
  },
  {
   "cell_type": "markdown",
   "metadata": {},
   "source": [
    "# Multilevel Inheritance "
   ]
  },
  {
   "cell_type": "markdown",
   "metadata": {},
   "source": [
    "In multilevel inheritance, features of the base class and \n",
    "\n",
    "the derived class are further inherited into the new derived class. \n",
    "\n",
    "This is similar to a relationship representing a child and grandfather. "
   ]
  },
  {
   "cell_type": "code",
   "execution_count": 106,
   "metadata": {},
   "outputs": [
    {
     "name": "stdout",
     "output_type": "stream",
     "text": [
      "Grandfather name : Rangaswamy\n",
      "Father name : Vinod\n",
      "Son name : Nevaan\n"
     ]
    }
   ],
   "source": [
    "class Grandfather: \n",
    "    def __init__(self):\n",
    "        self.grandfathername = \"Rangaswamy\"\n",
    " \n",
    "\n",
    "class Father(Grandfather):\n",
    "    def __init__(self):\n",
    "        self.fathername = \"Vinod\"        \n",
    "        Grandfather.__init__(self)\n",
    " \n",
    "\n",
    "class Son(Father):\n",
    "    def __init__(self):\n",
    "        self.sonname = \"Nevaan\"        \n",
    "        Father.__init__(self)\n",
    " \n",
    "    def print_name(self):\n",
    "        print('Grandfather name :', self.grandfathername)\n",
    "        print(\"Father name :\", self.fathername)\n",
    "        print(\"Son name :\", self.sonname)\n",
    "\n",
    "sn = Son()\n",
    "sn.print_name()"
   ]
  },
  {
   "cell_type": "code",
   "execution_count": 107,
   "metadata": {},
   "outputs": [
    {
     "data": {
      "text/plain": [
       "(__main__.Son, __main__.Father, __main__.Grandfather, object)"
      ]
     },
     "execution_count": 107,
     "metadata": {},
     "output_type": "execute_result"
    }
   ],
   "source": [
    "Son.__mro__"
   ]
  },
  {
   "cell_type": "markdown",
   "metadata": {},
   "source": [
    "# Hierarchical Inheritance:"
   ]
  },
  {
   "cell_type": "markdown",
   "metadata": {},
   "source": [
    "When more than one derived classes are created from a single base this type \n",
    "\n",
    "of inheritance is called hierarchical inheritance. In this program, we have a parent (base) class and \n",
    "\n",
    "two child (derived) classes."
   ]
  },
  {
   "cell_type": "code",
   "execution_count": 108,
   "metadata": {},
   "outputs": [
    {
     "name": "stdout",
     "output_type": "stream",
     "text": [
      "Mother name : Shobha\n",
      "Father name : Rangaswamy\n",
      "First Son name : Praveen\n",
      "Mother name : Shobha\n",
      "Father name : Rangaswamy\n",
      "Second Son name : Vishnu\n",
      "Mother name : Shobha\n",
      "Father name : Rangaswamy\n",
      "Third Son name : Vinod\n"
     ]
    }
   ],
   "source": [
    "\n",
    "class Parent:\n",
    "    def __init__(self):\n",
    "        self.fathername = 'Rangaswamy' \n",
    "        self.mothername = 'Shobha'\n",
    "    def print_name(self):\n",
    "        print('Mother name : {0}'.format(self.mothername))\n",
    "        print('Father name : {0}'.format(self.fathername))\n",
    "\n",
    " \n",
    "\n",
    "class FirstChild(Parent):\n",
    "    def __init__(self):\n",
    "        self.firstSonName=\"Praveen\"\n",
    "        Parent.__init__(self)\n",
    "        \n",
    "    def print_lineage(self):\n",
    "        self.print_name()\n",
    "        print(\"First Son name : {0}\".format(self.firstSonName))\n",
    "\n",
    "\n",
    "\n",
    "class SecondChild(Parent):\n",
    "    def __init__(self):\n",
    "        self.secondSonName=\"Vishnu\"\n",
    "        Parent.__init__(self)\n",
    "        \n",
    "    def print_lineage(self):\n",
    "        self.print_name()\n",
    "        print(\"Second Son name : {0}\".format(self.secondSonName))\n",
    "        \n",
    "class ThirdChild(Parent):\n",
    "    def __init__(self):\n",
    "        self.thirdSonName=\"Vinod\"\n",
    "        Parent.__init__(self) \n",
    "        \n",
    "    def print_lineage(self):\n",
    "        self.print_name()\n",
    "        print(\"Third Son name : {0}\".format(self.thirdSonName))        \n",
    "  \n",
    "# Driver's code\n",
    "c1 = FirstChild()\n",
    "c2 = SecondChild()\n",
    "c3 = ThirdChild()\n",
    "c1.print_lineage()\n",
    "c2.print_lineage()\n",
    "c3.print_lineage()\n"
   ]
  },
  {
   "cell_type": "code",
   "execution_count": 109,
   "metadata": {},
   "outputs": [
    {
     "data": {
      "text/plain": [
       "(__main__.FirstChild, __main__.Parent, object)"
      ]
     },
     "execution_count": 109,
     "metadata": {},
     "output_type": "execute_result"
    }
   ],
   "source": [
    "FirstChild.__mro__\n"
   ]
  },
  {
   "cell_type": "code",
   "execution_count": 110,
   "metadata": {},
   "outputs": [
    {
     "data": {
      "text/plain": [
       "(__main__.SecondChild, __main__.Parent, object)"
      ]
     },
     "execution_count": 110,
     "metadata": {},
     "output_type": "execute_result"
    }
   ],
   "source": [
    "SecondChild.__mro__\n"
   ]
  },
  {
   "cell_type": "code",
   "execution_count": 111,
   "metadata": {},
   "outputs": [
    {
     "data": {
      "text/plain": [
       "(__main__.ThirdChild, __main__.Parent, object)"
      ]
     },
     "execution_count": 111,
     "metadata": {},
     "output_type": "execute_result"
    }
   ],
   "source": [
    "ThirdChild.__mro__"
   ]
  },
  {
   "cell_type": "code",
   "execution_count": 112,
   "metadata": {},
   "outputs": [
    {
     "data": {
      "text/plain": [
       "__main__.ThirdChild"
      ]
     },
     "execution_count": 112,
     "metadata": {},
     "output_type": "execute_result"
    }
   ],
   "source": [
    "ThirdChild.__mro__[0]"
   ]
  },
  {
   "cell_type": "code",
   "execution_count": 113,
   "metadata": {},
   "outputs": [
    {
     "data": {
      "text/plain": [
       "type"
      ]
     },
     "execution_count": 113,
     "metadata": {},
     "output_type": "execute_result"
    }
   ],
   "source": [
    "type(ThirdChild.__mro__[0])"
   ]
  },
  {
   "cell_type": "code",
   "execution_count": 114,
   "metadata": {},
   "outputs": [
    {
     "data": {
      "text/plain": [
       "__main__.Parent"
      ]
     },
     "execution_count": 114,
     "metadata": {},
     "output_type": "execute_result"
    }
   ],
   "source": [
    "ThirdChild.__mro__[1]"
   ]
  },
  {
   "cell_type": "code",
   "execution_count": null,
   "metadata": {},
   "outputs": [],
   "source": []
  }
 ],
 "metadata": {
  "kernelspec": {
   "display_name": "Python 3",
   "language": "python",
   "name": "python3"
  },
  "language_info": {
   "codemirror_mode": {
    "name": "ipython",
    "version": 3
   },
   "file_extension": ".py",
   "mimetype": "text/x-python",
   "name": "python",
   "nbconvert_exporter": "python",
   "pygments_lexer": "ipython3",
   "version": "3.8.5"
  }
 },
 "nbformat": 4,
 "nbformat_minor": 4
}
